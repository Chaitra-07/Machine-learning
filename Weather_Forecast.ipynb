{
  "nbformat": 4,
  "nbformat_minor": 0,
  "metadata": {
    "colab": {
      "name": "Weather_Forecast.ipynb",
      "provenance": [],
      "authorship_tag": "ABX9TyNvNtTgam8KCZ7nAUmRCxwO",
      "include_colab_link": true
    },
    "kernelspec": {
      "name": "python3",
      "display_name": "Python 3"
    }
  },
  "cells": [
    {
      "cell_type": "markdown",
      "metadata": {
        "id": "view-in-github",
        "colab_type": "text"
      },
      "source": [
        "<a href=\"https://colab.research.google.com/github/Chaitra-07/chai/blob/master/Weather_Forecast.ipynb\" target=\"_parent\"><img src=\"https://colab.research.google.com/assets/colab-badge.svg\" alt=\"Open In Colab\"/></a>"
      ]
    },
    {
      "cell_type": "markdown",
      "metadata": {
        "id": "IyKYkw07fOEo"
      },
      "source": [
        "\r\n",
        "Weather firecasting\r\n",
        "\r\n",
        "The CSV file includes a hourly/daily summary for Hungary aread\r\n",
        "\r\n",
        "Data available in the hourly response:\r\n",
        "\r\n",
        "1. time\r\n",
        "2. summary\r\n",
        "3. precipType\r\n",
        "4. temperature\r\n",
        "5. apparentTemperature\r\n",
        "6. humidity\r\n",
        "7. windSpeed\r\n",
        "8. windBearing\r\n",
        "9. visibility\r\n",
        "10. loudCover\r\n",
        "11. pressure\r\n",
        "\r\n",
        "I will split this dataset into training and testing dataset\r\n"
      ]
    },
    {
      "cell_type": "code",
      "metadata": {
        "colab": {
          "base_uri": "https://localhost:8080/"
        },
        "id": "OaxXAzPwc78-",
        "outputId": "13424b2f-b3cf-40da-f653-956894911384"
      },
      "source": [
        "from google.colab import drive\r\n",
        "drive.mount('/content/gdrive')"
      ],
      "execution_count": 1,
      "outputs": [
        {
          "output_type": "stream",
          "text": [
            "Mounted at /content/gdrive\n"
          ],
          "name": "stdout"
        }
      ]
    },
    {
      "cell_type": "code",
      "metadata": {
        "id": "jdo2q-_CdbiH"
      },
      "source": [
        "# Import the neccessary modules for data manipulation and visual representation\r\n",
        "import pandas as pd\r\n",
        "import numpy as np\r\n",
        "import matplotlib.pyplot as plt\r\n",
        "import matplotlib as matplot\r\n",
        "import seaborn as sns\r\n",
        "%matplotlib inline"
      ],
      "execution_count": 3,
      "outputs": []
    },
    {
      "cell_type": "code",
      "metadata": {
        "id": "OM5CoLMndlzx"
      },
      "source": [
        "dataset = pd.read_csv('gdrive/My Drive/Datasets/weatherHistory.csv')"
      ],
      "execution_count": 5,
      "outputs": []
    },
    {
      "cell_type": "code",
      "metadata": {
        "colab": {
          "base_uri": "https://localhost:8080/"
        },
        "id": "cLXre4RKebeq",
        "outputId": "9e01c1c7-e203-4e74-b182-360f8f0b7011"
      },
      "source": [
        "dataset.shape"
      ],
      "execution_count": 6,
      "outputs": [
        {
          "output_type": "execute_result",
          "data": {
            "text/plain": [
              "(96453, 12)"
            ]
          },
          "metadata": {
            "tags": []
          },
          "execution_count": 6
        }
      ]
    },
    {
      "cell_type": "code",
      "metadata": {
        "colab": {
          "base_uri": "https://localhost:8080/",
          "height": 546
        },
        "id": "z2GIADRceg6n",
        "outputId": "abb5c905-0298-4d56-b4d6-594432ec2de6"
      },
      "source": [
        "dataset.head(10)"
      ],
      "execution_count": 7,
      "outputs": [
        {
          "output_type": "execute_result",
          "data": {
            "text/html": [
              "<div>\n",
              "<style scoped>\n",
              "    .dataframe tbody tr th:only-of-type {\n",
              "        vertical-align: middle;\n",
              "    }\n",
              "\n",
              "    .dataframe tbody tr th {\n",
              "        vertical-align: top;\n",
              "    }\n",
              "\n",
              "    .dataframe thead th {\n",
              "        text-align: right;\n",
              "    }\n",
              "</style>\n",
              "<table border=\"1\" class=\"dataframe\">\n",
              "  <thead>\n",
              "    <tr style=\"text-align: right;\">\n",
              "      <th></th>\n",
              "      <th>Formatted Date</th>\n",
              "      <th>Summary</th>\n",
              "      <th>Precip Type</th>\n",
              "      <th>Temperature (C)</th>\n",
              "      <th>Apparent Temperature (C)</th>\n",
              "      <th>Humidity</th>\n",
              "      <th>Wind Speed (km/h)</th>\n",
              "      <th>Wind Bearing (degrees)</th>\n",
              "      <th>Visibility (km)</th>\n",
              "      <th>Loud Cover</th>\n",
              "      <th>Pressure (millibars)</th>\n",
              "      <th>Daily Summary</th>\n",
              "    </tr>\n",
              "  </thead>\n",
              "  <tbody>\n",
              "    <tr>\n",
              "      <th>0</th>\n",
              "      <td>2006-04-01 00:00:00.000 +0200</td>\n",
              "      <td>Partly Cloudy</td>\n",
              "      <td>rain</td>\n",
              "      <td>9.472222</td>\n",
              "      <td>7.388889</td>\n",
              "      <td>0.89</td>\n",
              "      <td>14.1197</td>\n",
              "      <td>251.0</td>\n",
              "      <td>15.8263</td>\n",
              "      <td>0.0</td>\n",
              "      <td>1015.13</td>\n",
              "      <td>Partly cloudy throughout the day.</td>\n",
              "    </tr>\n",
              "    <tr>\n",
              "      <th>1</th>\n",
              "      <td>2006-04-01 01:00:00.000 +0200</td>\n",
              "      <td>Partly Cloudy</td>\n",
              "      <td>rain</td>\n",
              "      <td>9.355556</td>\n",
              "      <td>7.227778</td>\n",
              "      <td>0.86</td>\n",
              "      <td>14.2646</td>\n",
              "      <td>259.0</td>\n",
              "      <td>15.8263</td>\n",
              "      <td>0.0</td>\n",
              "      <td>1015.63</td>\n",
              "      <td>Partly cloudy throughout the day.</td>\n",
              "    </tr>\n",
              "    <tr>\n",
              "      <th>2</th>\n",
              "      <td>2006-04-01 02:00:00.000 +0200</td>\n",
              "      <td>Mostly Cloudy</td>\n",
              "      <td>rain</td>\n",
              "      <td>9.377778</td>\n",
              "      <td>9.377778</td>\n",
              "      <td>0.89</td>\n",
              "      <td>3.9284</td>\n",
              "      <td>204.0</td>\n",
              "      <td>14.9569</td>\n",
              "      <td>0.0</td>\n",
              "      <td>1015.94</td>\n",
              "      <td>Partly cloudy throughout the day.</td>\n",
              "    </tr>\n",
              "    <tr>\n",
              "      <th>3</th>\n",
              "      <td>2006-04-01 03:00:00.000 +0200</td>\n",
              "      <td>Partly Cloudy</td>\n",
              "      <td>rain</td>\n",
              "      <td>8.288889</td>\n",
              "      <td>5.944444</td>\n",
              "      <td>0.83</td>\n",
              "      <td>14.1036</td>\n",
              "      <td>269.0</td>\n",
              "      <td>15.8263</td>\n",
              "      <td>0.0</td>\n",
              "      <td>1016.41</td>\n",
              "      <td>Partly cloudy throughout the day.</td>\n",
              "    </tr>\n",
              "    <tr>\n",
              "      <th>4</th>\n",
              "      <td>2006-04-01 04:00:00.000 +0200</td>\n",
              "      <td>Mostly Cloudy</td>\n",
              "      <td>rain</td>\n",
              "      <td>8.755556</td>\n",
              "      <td>6.977778</td>\n",
              "      <td>0.83</td>\n",
              "      <td>11.0446</td>\n",
              "      <td>259.0</td>\n",
              "      <td>15.8263</td>\n",
              "      <td>0.0</td>\n",
              "      <td>1016.51</td>\n",
              "      <td>Partly cloudy throughout the day.</td>\n",
              "    </tr>\n",
              "    <tr>\n",
              "      <th>5</th>\n",
              "      <td>2006-04-01 05:00:00.000 +0200</td>\n",
              "      <td>Partly Cloudy</td>\n",
              "      <td>rain</td>\n",
              "      <td>9.222222</td>\n",
              "      <td>7.111111</td>\n",
              "      <td>0.85</td>\n",
              "      <td>13.9587</td>\n",
              "      <td>258.0</td>\n",
              "      <td>14.9569</td>\n",
              "      <td>0.0</td>\n",
              "      <td>1016.66</td>\n",
              "      <td>Partly cloudy throughout the day.</td>\n",
              "    </tr>\n",
              "    <tr>\n",
              "      <th>6</th>\n",
              "      <td>2006-04-01 06:00:00.000 +0200</td>\n",
              "      <td>Partly Cloudy</td>\n",
              "      <td>rain</td>\n",
              "      <td>7.733333</td>\n",
              "      <td>5.522222</td>\n",
              "      <td>0.95</td>\n",
              "      <td>12.3648</td>\n",
              "      <td>259.0</td>\n",
              "      <td>9.9820</td>\n",
              "      <td>0.0</td>\n",
              "      <td>1016.72</td>\n",
              "      <td>Partly cloudy throughout the day.</td>\n",
              "    </tr>\n",
              "    <tr>\n",
              "      <th>7</th>\n",
              "      <td>2006-04-01 07:00:00.000 +0200</td>\n",
              "      <td>Partly Cloudy</td>\n",
              "      <td>rain</td>\n",
              "      <td>8.772222</td>\n",
              "      <td>6.527778</td>\n",
              "      <td>0.89</td>\n",
              "      <td>14.1519</td>\n",
              "      <td>260.0</td>\n",
              "      <td>9.9820</td>\n",
              "      <td>0.0</td>\n",
              "      <td>1016.84</td>\n",
              "      <td>Partly cloudy throughout the day.</td>\n",
              "    </tr>\n",
              "    <tr>\n",
              "      <th>8</th>\n",
              "      <td>2006-04-01 08:00:00.000 +0200</td>\n",
              "      <td>Partly Cloudy</td>\n",
              "      <td>rain</td>\n",
              "      <td>10.822222</td>\n",
              "      <td>10.822222</td>\n",
              "      <td>0.82</td>\n",
              "      <td>11.3183</td>\n",
              "      <td>259.0</td>\n",
              "      <td>9.9820</td>\n",
              "      <td>0.0</td>\n",
              "      <td>1017.37</td>\n",
              "      <td>Partly cloudy throughout the day.</td>\n",
              "    </tr>\n",
              "    <tr>\n",
              "      <th>9</th>\n",
              "      <td>2006-04-01 09:00:00.000 +0200</td>\n",
              "      <td>Partly Cloudy</td>\n",
              "      <td>rain</td>\n",
              "      <td>13.772222</td>\n",
              "      <td>13.772222</td>\n",
              "      <td>0.72</td>\n",
              "      <td>12.5258</td>\n",
              "      <td>279.0</td>\n",
              "      <td>9.9820</td>\n",
              "      <td>0.0</td>\n",
              "      <td>1017.22</td>\n",
              "      <td>Partly cloudy throughout the day.</td>\n",
              "    </tr>\n",
              "  </tbody>\n",
              "</table>\n",
              "</div>"
            ],
            "text/plain": [
              "                  Formatted Date  ...                      Daily Summary\n",
              "0  2006-04-01 00:00:00.000 +0200  ...  Partly cloudy throughout the day.\n",
              "1  2006-04-01 01:00:00.000 +0200  ...  Partly cloudy throughout the day.\n",
              "2  2006-04-01 02:00:00.000 +0200  ...  Partly cloudy throughout the day.\n",
              "3  2006-04-01 03:00:00.000 +0200  ...  Partly cloudy throughout the day.\n",
              "4  2006-04-01 04:00:00.000 +0200  ...  Partly cloudy throughout the day.\n",
              "5  2006-04-01 05:00:00.000 +0200  ...  Partly cloudy throughout the day.\n",
              "6  2006-04-01 06:00:00.000 +0200  ...  Partly cloudy throughout the day.\n",
              "7  2006-04-01 07:00:00.000 +0200  ...  Partly cloudy throughout the day.\n",
              "8  2006-04-01 08:00:00.000 +0200  ...  Partly cloudy throughout the day.\n",
              "9  2006-04-01 09:00:00.000 +0200  ...  Partly cloudy throughout the day.\n",
              "\n",
              "[10 rows x 12 columns]"
            ]
          },
          "metadata": {
            "tags": []
          },
          "execution_count": 7
        }
      ]
    },
    {
      "cell_type": "code",
      "metadata": {
        "colab": {
          "base_uri": "https://localhost:8080/"
        },
        "id": "CjspTbZrenPF",
        "outputId": "cabde462-65f3-4eb4-b245-dd86b1983af1"
      },
      "source": [
        "# Check to see if there are any missing values in our data set\r\n",
        "dataset.isnull().any()"
      ],
      "execution_count": 8,
      "outputs": [
        {
          "output_type": "execute_result",
          "data": {
            "text/plain": [
              "Formatted Date              False\n",
              "Summary                     False\n",
              "Precip Type                  True\n",
              "Temperature (C)             False\n",
              "Apparent Temperature (C)    False\n",
              "Humidity                    False\n",
              "Wind Speed (km/h)           False\n",
              "Wind Bearing (degrees)      False\n",
              "Visibility (km)             False\n",
              "Loud Cover                  False\n",
              "Pressure (millibars)        False\n",
              "Daily Summary               False\n",
              "dtype: bool"
            ]
          },
          "metadata": {
            "tags": []
          },
          "execution_count": 8
        }
      ]
    },
    {
      "cell_type": "code",
      "metadata": {
        "colab": {
          "base_uri": "https://localhost:8080/",
          "height": 406
        },
        "id": "9zvx6-IgN_XE",
        "outputId": "d7dfed93-f242-4e99-c440-6c16404042bd"
      },
      "source": [
        "sns.heatmap(dataset.isnull())\r\n",
        "#No null values are found"
      ],
      "execution_count": 74,
      "outputs": [
        {
          "output_type": "execute_result",
          "data": {
            "text/plain": [
              "<matplotlib.axes._subplots.AxesSubplot at 0x7fcba0dfb828>"
            ]
          },
          "metadata": {
            "tags": []
          },
          "execution_count": 74
        },
        {
          "output_type": "display_data",
          "data": {
            "image/png": "[encoded data removed]",
            "text/plain": [
              "<Figure size 432x288 with 2 Axes>"
            ]
          },
          "metadata": {
            "tags": [],
            "needs_background": "light"
          }
        }
      ]
    },
    {
      "cell_type": "code",
      "metadata": {
        "colab": {
          "base_uri": "https://localhost:8080/",
          "height": 703
        },
        "id": "KEm4hUGaORlI",
        "outputId": "bd41523b-3ef9-47c6-c273-9dc5a9ed7cc3"
      },
      "source": [
        "#Correlation Matrix\r\n",
        "corr = dataset.corr()\r\n",
        "sns.heatmap(corr)\r\n",
        "corr"
      ],
      "execution_count": 79,
      "outputs": [
        {
          "output_type": "execute_result",
          "data": {
            "text/html": [
              "<div>\n",
              "<style scoped>\n",
              "    .dataframe tbody tr th:only-of-type {\n",
              "        vertical-align: middle;\n",
              "    }\n",
              "\n",
              "    .dataframe tbody tr th {\n",
              "        vertical-align: top;\n",
              "    }\n",
              "\n",
              "    .dataframe thead th {\n",
              "        text-align: right;\n",
              "    }\n",
              "</style>\n",
              "<table border=\"1\" class=\"dataframe\">\n",
              "  <thead>\n",
              "    <tr style=\"text-align: right;\">\n",
              "      <th></th>\n",
              "      <th>Temperature (C)</th>\n",
              "      <th>Apparent Temperature (C)</th>\n",
              "      <th>Humidity</th>\n",
              "      <th>Wind Speed (km/h)</th>\n",
              "      <th>Wind Bearing (degrees)</th>\n",
              "      <th>Visibility (km)</th>\n",
              "      <th>Loud Cover</th>\n",
              "      <th>Pressure (millibars)</th>\n",
              "    </tr>\n",
              "  </thead>\n",
              "  <tbody>\n",
              "    <tr>\n",
              "      <th>Temperature (C)</th>\n",
              "      <td>1.000000</td>\n",
              "      <td>0.992629</td>\n",
              "      <td>-0.632255</td>\n",
              "      <td>0.008957</td>\n",
              "      <td>0.029988</td>\n",
              "      <td>0.392847</td>\n",
              "      <td>NaN</td>\n",
              "      <td>-0.005447</td>\n",
              "    </tr>\n",
              "    <tr>\n",
              "      <th>Apparent Temperature (C)</th>\n",
              "      <td>0.992629</td>\n",
              "      <td>1.000000</td>\n",
              "      <td>-0.602571</td>\n",
              "      <td>-0.056650</td>\n",
              "      <td>0.029031</td>\n",
              "      <td>0.381718</td>\n",
              "      <td>NaN</td>\n",
              "      <td>-0.000219</td>\n",
              "    </tr>\n",
              "    <tr>\n",
              "      <th>Humidity</th>\n",
              "      <td>-0.632255</td>\n",
              "      <td>-0.602571</td>\n",
              "      <td>1.000000</td>\n",
              "      <td>-0.224951</td>\n",
              "      <td>0.000735</td>\n",
              "      <td>-0.369173</td>\n",
              "      <td>NaN</td>\n",
              "      <td>0.005454</td>\n",
              "    </tr>\n",
              "    <tr>\n",
              "      <th>Wind Speed (km/h)</th>\n",
              "      <td>0.008957</td>\n",
              "      <td>-0.056650</td>\n",
              "      <td>-0.224951</td>\n",
              "      <td>1.000000</td>\n",
              "      <td>0.103822</td>\n",
              "      <td>0.100749</td>\n",
              "      <td>NaN</td>\n",
              "      <td>-0.049263</td>\n",
              "    </tr>\n",
              "    <tr>\n",
              "      <th>Wind Bearing (degrees)</th>\n",
              "      <td>0.029988</td>\n",
              "      <td>0.029031</td>\n",
              "      <td>0.000735</td>\n",
              "      <td>0.103822</td>\n",
              "      <td>1.000000</td>\n",
              "      <td>0.047594</td>\n",
              "      <td>NaN</td>\n",
              "      <td>-0.011651</td>\n",
              "    </tr>\n",
              "    <tr>\n",
              "      <th>Visibility (km)</th>\n",
              "      <td>0.392847</td>\n",
              "      <td>0.381718</td>\n",
              "      <td>-0.369173</td>\n",
              "      <td>0.100749</td>\n",
              "      <td>0.047594</td>\n",
              "      <td>1.000000</td>\n",
              "      <td>NaN</td>\n",
              "      <td>0.059818</td>\n",
              "    </tr>\n",
              "    <tr>\n",
              "      <th>Loud Cover</th>\n",
              "      <td>NaN</td>\n",
              "      <td>NaN</td>\n",
              "      <td>NaN</td>\n",
              "      <td>NaN</td>\n",
              "      <td>NaN</td>\n",
              "      <td>NaN</td>\n",
              "      <td>NaN</td>\n",
              "      <td>NaN</td>\n",
              "    </tr>\n",
              "    <tr>\n",
              "      <th>Pressure (millibars)</th>\n",
              "      <td>-0.005447</td>\n",
              "      <td>-0.000219</td>\n",
              "      <td>0.005454</td>\n",
              "      <td>-0.049263</td>\n",
              "      <td>-0.011651</td>\n",
              "      <td>0.059818</td>\n",
              "      <td>NaN</td>\n",
              "      <td>1.000000</td>\n",
              "    </tr>\n",
              "  </tbody>\n",
              "</table>\n",
              "</div>"
            ],
            "text/plain": [
              "                          Temperature (C)  ...  Pressure (millibars)\n",
              "Temperature (C)                  1.000000  ...             -0.005447\n",
              "Apparent Temperature (C)         0.992629  ...             -0.000219\n",
              "Humidity                        -0.632255  ...              0.005454\n",
              "Wind Speed (km/h)                0.008957  ...             -0.049263\n",
              "Wind Bearing (degrees)           0.029988  ...             -0.011651\n",
              "Visibility (km)                  0.392847  ...              0.059818\n",
              "Loud Cover                            NaN  ...                   NaN\n",
              "Pressure (millibars)            -0.005447  ...              1.000000\n",
              "\n",
              "[8 rows x 8 columns]"
            ]
          },
          "metadata": {
            "tags": []
          },
          "execution_count": 79
        },
        {
          "output_type": "display_data",
          "data": {
            "image/png": "[encoded data removed]",
            "text/plain": [
              "<Figure size 432x288 with 2 Axes>"
            ]
          },
          "metadata": {
            "tags": [],
            "needs_background": "light"
          }
        }
      ]
    },
    {
      "cell_type": "code",
      "metadata": {
        "colab": {
          "base_uri": "https://localhost:8080/"
        },
        "id": "17iXre5Ie-lA",
        "outputId": "13787f60-9585-464b-a0cd-03798adc2a67"
      },
      "source": [
        "dataset.info()"
      ],
      "execution_count": 9,
      "outputs": [
        {
          "output_type": "stream",
          "text": [
            "<class 'pandas.core.frame.DataFrame'>\n",
            "RangeIndex: 96453 entries, 0 to 96452\n",
            "Data columns (total 12 columns):\n",
            " #   Column                    Non-Null Count  Dtype  \n",
            "---  ------                    --------------  -----  \n",
            " 0   Formatted Date            96453 non-null  object \n",
            " 1   Summary                   96453 non-null  object \n",
            " 2   Precip Type               95936 non-null  object \n",
            " 3   Temperature (C)           96453 non-null  float64\n",
            " 4   Apparent Temperature (C)  96453 non-null  float64\n",
            " 5   Humidity                  96453 non-null  float64\n",
            " 6   Wind Speed (km/h)         96453 non-null  float64\n",
            " 7   Wind Bearing (degrees)    96453 non-null  float64\n",
            " 8   Visibility (km)           96453 non-null  float64\n",
            " 9   Loud Cover                96453 non-null  float64\n",
            " 10  Pressure (millibars)      96453 non-null  float64\n",
            " 11  Daily Summary             96453 non-null  object \n",
            "dtypes: float64(8), object(4)\n",
            "memory usage: 8.8+ MB\n"
          ],
          "name": "stdout"
        }
      ]
    },
    {
      "cell_type": "code",
      "metadata": {
        "colab": {
          "base_uri": "https://localhost:8080/"
        },
        "id": "C2njBiK_zafi",
        "outputId": "7b6fb52a-ad5d-4360-87b8-381d19467a11"
      },
      "source": [
        "#There are some NaN values in the column precipitation type. We should deal with them properly.\r\n",
        "dataset['Precip Type'].value_counts()"
      ],
      "execution_count": 11,
      "outputs": [
        {
          "output_type": "execute_result",
          "data": {
            "text/plain": [
              "rain    85224\n",
              "snow    10712\n",
              "Name: Precip Type, dtype: int64"
            ]
          },
          "metadata": {
            "tags": []
          },
          "execution_count": 11
        }
      ]
    },
    {
      "cell_type": "code",
      "metadata": {
        "id": "e1IvNobBz4Pz"
      },
      "source": [
        "#We have 2 values ‘rain’ and ‘snow’ in this column and the count of rain is much more than count of snow so we can simply replace all the missing values with ‘rain’ \r\n",
        "dataset.loc[dataset['Precip Type'].isnull(),'Precip Type']='rain'"
      ],
      "execution_count": 13,
      "outputs": []
    },
    {
      "cell_type": "code",
      "metadata": {
        "colab": {
          "base_uri": "https://localhost:8080/"
        },
        "id": "jRwf8O3B2Ek4",
        "outputId": "873d78a6-85c8-4750-ee51-b36aafc73225"
      },
      "source": [
        "#Lets check whether all the null values are replaced\r\n",
        "dataset.isnull().any()"
      ],
      "execution_count": 16,
      "outputs": [
        {
          "output_type": "execute_result",
          "data": {
            "text/plain": [
              "Formatted Date              False\n",
              "Summary                     False\n",
              "Precip Type                 False\n",
              "Temperature (C)             False\n",
              "Apparent Temperature (C)    False\n",
              "Humidity                    False\n",
              "Wind Speed (km/h)           False\n",
              "Wind Bearing (degrees)      False\n",
              "Visibility (km)             False\n",
              "Loud Cover                  False\n",
              "Pressure (millibars)        False\n",
              "Daily Summary               False\n",
              "dtype: bool"
            ]
          },
          "metadata": {
            "tags": []
          },
          "execution_count": 16
        }
      ]
    },
    {
      "cell_type": "code",
      "metadata": {
        "id": "W5KhYS542a7v"
      },
      "source": [
        "#imputing binary values for precip type\r\n",
        "dataset.loc[dataset['Precip Type']=='rain','Precip Type']=1\r\n",
        "dataset.loc[dataset['Precip Type']=='snow','Precip Type']=0\r\n"
      ],
      "execution_count": 53,
      "outputs": []
    },
    {
      "cell_type": "code",
      "metadata": {
        "colab": {
          "base_uri": "https://localhost:8080/"
        },
        "id": "x8IhEdmPBDYi",
        "outputId": "06fc7fe6-9264-41b5-9084-15b0bc45888d"
      },
      "source": [
        "dataset['Precip Type']"
      ],
      "execution_count": 57,
      "outputs": [
        {
          "output_type": "execute_result",
          "data": {
            "text/plain": [
              "0        1\n",
              "1        1\n",
              "2        1\n",
              "3        1\n",
              "4        1\n",
              "        ..\n",
              "96448    1\n",
              "96449    1\n",
              "96450    1\n",
              "96451    1\n",
              "96452    1\n",
              "Name: Precip Type, Length: 96453, dtype: object"
            ]
          },
          "metadata": {
            "tags": []
          },
          "execution_count": 57
        }
      ]
    },
    {
      "cell_type": "code",
      "metadata": {
        "id": "Al_H_GQ15fem"
      },
      "source": [
        "#splitting into X and y\r\n",
        "dataset_num = dataset[list(dataset.dtypes[dataset.dtypes!=object].index)]\r\n",
        "X = dataset_num.drop('Temperature (C)', axis=1).copy()\r\n",
        "y = dataset_num['Temperature (C)']"
      ],
      "execution_count": 58,
      "outputs": []
    },
    {
      "cell_type": "code",
      "metadata": {
        "id": "W2KUwFVo65Cu"
      },
      "source": [
        "from sklearn.model_selection import train_test_split\r\n",
        "X_train, X_test, y_train ,y_test = train_test_split(X,y,test_size=0.2,random_state=40)\r\n"
      ],
      "execution_count": 85,
      "outputs": []
    },
    {
      "cell_type": "code",
      "metadata": {
        "colab": {
          "base_uri": "https://localhost:8080/",
          "height": 204
        },
        "id": "COnlTNpv8L9x",
        "outputId": "b6d8dd03-d35f-4577-cbc7-d57e2cd39918"
      },
      "source": [
        "X_train.head()"
      ],
      "execution_count": 86,
      "outputs": [
        {
          "output_type": "execute_result",
          "data": {
            "text/html": [
              "<div>\n",
              "<style scoped>\n",
              "    .dataframe tbody tr th:only-of-type {\n",
              "        vertical-align: middle;\n",
              "    }\n",
              "\n",
              "    .dataframe tbody tr th {\n",
              "        vertical-align: top;\n",
              "    }\n",
              "\n",
              "    .dataframe thead th {\n",
              "        text-align: right;\n",
              "    }\n",
              "</style>\n",
              "<table border=\"1\" class=\"dataframe\">\n",
              "  <thead>\n",
              "    <tr style=\"text-align: right;\">\n",
              "      <th></th>\n",
              "      <th>Apparent Temperature (C)</th>\n",
              "      <th>Humidity</th>\n",
              "      <th>Wind Speed (km/h)</th>\n",
              "      <th>Wind Bearing (degrees)</th>\n",
              "      <th>Visibility (km)</th>\n",
              "      <th>Loud Cover</th>\n",
              "      <th>Pressure (millibars)</th>\n",
              "    </tr>\n",
              "  </thead>\n",
              "  <tbody>\n",
              "    <tr>\n",
              "      <th>89316</th>\n",
              "      <td>0.438889</td>\n",
              "      <td>0.82</td>\n",
              "      <td>13.2825</td>\n",
              "      <td>194.0</td>\n",
              "      <td>8.3398</td>\n",
              "      <td>0.0</td>\n",
              "      <td>1019.35</td>\n",
              "    </tr>\n",
              "    <tr>\n",
              "      <th>32206</th>\n",
              "      <td>18.022222</td>\n",
              "      <td>0.66</td>\n",
              "      <td>3.4776</td>\n",
              "      <td>145.0</td>\n",
              "      <td>15.1501</td>\n",
              "      <td>0.0</td>\n",
              "      <td>1018.22</td>\n",
              "    </tr>\n",
              "    <tr>\n",
              "      <th>30941</th>\n",
              "      <td>13.105556</td>\n",
              "      <td>0.84</td>\n",
              "      <td>6.1019</td>\n",
              "      <td>143.0</td>\n",
              "      <td>15.1501</td>\n",
              "      <td>0.0</td>\n",
              "      <td>1019.26</td>\n",
              "    </tr>\n",
              "    <tr>\n",
              "      <th>81705</th>\n",
              "      <td>-5.383333</td>\n",
              "      <td>0.78</td>\n",
              "      <td>33.0372</td>\n",
              "      <td>31.0</td>\n",
              "      <td>9.9820</td>\n",
              "      <td>0.0</td>\n",
              "      <td>1012.32</td>\n",
              "    </tr>\n",
              "    <tr>\n",
              "      <th>2291</th>\n",
              "      <td>-4.727778</td>\n",
              "      <td>0.81</td>\n",
              "      <td>17.7100</td>\n",
              "      <td>310.0</td>\n",
              "      <td>11.2056</td>\n",
              "      <td>0.0</td>\n",
              "      <td>1023.59</td>\n",
              "    </tr>\n",
              "  </tbody>\n",
              "</table>\n",
              "</div>"
            ],
            "text/plain": [
              "       Apparent Temperature (C)  Humidity  ...  Loud Cover  Pressure (millibars)\n",
              "89316                  0.438889      0.82  ...         0.0               1019.35\n",
              "32206                 18.022222      0.66  ...         0.0               1018.22\n",
              "30941                 13.105556      0.84  ...         0.0               1019.26\n",
              "81705                 -5.383333      0.78  ...         0.0               1012.32\n",
              "2291                  -4.727778      0.81  ...         0.0               1023.59\n",
              "\n",
              "[5 rows x 7 columns]"
            ]
          },
          "metadata": {
            "tags": []
          },
          "execution_count": 86
        }
      ]
    },
    {
      "cell_type": "code",
      "metadata": {
        "colab": {
          "base_uri": "https://localhost:8080/"
        },
        "id": "_bLeMcRP8Bpr",
        "outputId": "f2fa4ba1-f435-4b65-dc17-ef8b699856a2"
      },
      "source": [
        "#Implementation of the first Model — Linear Regression\r\n",
        "\r\n",
        "from sklearn.linear_model import LinearRegression\r\n",
        "\r\n",
        "model = LinearRegression()  \r\n",
        "model.fit(X_train,y_train)\r\n"
      ],
      "execution_count": 87,
      "outputs": [
        {
          "output_type": "execute_result",
          "data": {
            "text/plain": [
              "LinearRegression(copy_X=True, fit_intercept=True, n_jobs=None, normalize=False)"
            ]
          },
          "metadata": {
            "tags": []
          },
          "execution_count": 87
        }
      ]
    },
    {
      "cell_type": "code",
      "metadata": {
        "colab": {
          "base_uri": "https://localhost:8080/"
        },
        "id": "BmE3n3H395oS",
        "outputId": "d276bd32-86a4-445e-dc76-3e48f276854b"
      },
      "source": [
        "y_pred = model.predict(X_test)\r\n",
        "#Calculating the error\r\n",
        "np.mean((y_pred-y_test)**2)"
      ],
      "execution_count": 88,
      "outputs": [
        {
          "output_type": "execute_result",
          "data": {
            "text/plain": [
              "0.9041763036918032"
            ]
          },
          "metadata": {
            "tags": []
          },
          "execution_count": 88
        }
      ]
    },
    {
      "cell_type": "code",
      "metadata": {
        "colab": {
          "base_uri": "https://localhost:8080/",
          "height": 419
        },
        "id": "F-c14BROBcdy",
        "outputId": "b7e4287f-fd9a-45e2-abca-731409eead49"
      },
      "source": [
        "pd.DataFrame({'Actual Value':y_test,\r\n",
        "              'Predicted Value':y_pred,\r\n",
        "              'Difference':(y_test-y_pred)})"
      ],
      "execution_count": 89,
      "outputs": [
        {
          "output_type": "execute_result",
          "data": {
            "text/html": [
              "<div>\n",
              "<style scoped>\n",
              "    .dataframe tbody tr th:only-of-type {\n",
              "        vertical-align: middle;\n",
              "    }\n",
              "\n",
              "    .dataframe tbody tr th {\n",
              "        vertical-align: top;\n",
              "    }\n",
              "\n",
              "    .dataframe thead th {\n",
              "        text-align: right;\n",
              "    }\n",
              "</style>\n",
              "<table border=\"1\" class=\"dataframe\">\n",
              "  <thead>\n",
              "    <tr style=\"text-align: right;\">\n",
              "      <th></th>\n",
              "      <th>Actual Value</th>\n",
              "      <th>Predicted Value</th>\n",
              "      <th>Difference</th>\n",
              "    </tr>\n",
              "  </thead>\n",
              "  <tbody>\n",
              "    <tr>\n",
              "      <th>55917</th>\n",
              "      <td>2.777778</td>\n",
              "      <td>1.741941</td>\n",
              "      <td>1.035836</td>\n",
              "    </tr>\n",
              "    <tr>\n",
              "      <th>58165</th>\n",
              "      <td>14.844444</td>\n",
              "      <td>17.333937</td>\n",
              "      <td>-2.489492</td>\n",
              "    </tr>\n",
              "    <tr>\n",
              "      <th>75349</th>\n",
              "      <td>15.955556</td>\n",
              "      <td>17.117662</td>\n",
              "      <td>-1.162106</td>\n",
              "    </tr>\n",
              "    <tr>\n",
              "      <th>36329</th>\n",
              "      <td>21.033333</td>\n",
              "      <td>21.711107</td>\n",
              "      <td>-0.677774</td>\n",
              "    </tr>\n",
              "    <tr>\n",
              "      <th>15729</th>\n",
              "      <td>7.161111</td>\n",
              "      <td>6.703371</td>\n",
              "      <td>0.457740</td>\n",
              "    </tr>\n",
              "    <tr>\n",
              "      <th>...</th>\n",
              "      <td>...</td>\n",
              "      <td>...</td>\n",
              "      <td>...</td>\n",
              "    </tr>\n",
              "    <tr>\n",
              "      <th>78007</th>\n",
              "      <td>7.861111</td>\n",
              "      <td>8.473060</td>\n",
              "      <td>-0.611949</td>\n",
              "    </tr>\n",
              "    <tr>\n",
              "      <th>26610</th>\n",
              "      <td>18.888889</td>\n",
              "      <td>19.248232</td>\n",
              "      <td>-0.359343</td>\n",
              "    </tr>\n",
              "    <tr>\n",
              "      <th>80073</th>\n",
              "      <td>22.716667</td>\n",
              "      <td>22.150982</td>\n",
              "      <td>0.565685</td>\n",
              "    </tr>\n",
              "    <tr>\n",
              "      <th>50334</th>\n",
              "      <td>7.505556</td>\n",
              "      <td>8.759730</td>\n",
              "      <td>-1.254175</td>\n",
              "    </tr>\n",
              "    <tr>\n",
              "      <th>56241</th>\n",
              "      <td>1.111111</td>\n",
              "      <td>0.276199</td>\n",
              "      <td>0.834912</td>\n",
              "    </tr>\n",
              "  </tbody>\n",
              "</table>\n",
              "<p>19291 rows × 3 columns</p>\n",
              "</div>"
            ],
            "text/plain": [
              "       Actual Value  Predicted Value  Difference\n",
              "55917      2.777778         1.741941    1.035836\n",
              "58165     14.844444        17.333937   -2.489492\n",
              "75349     15.955556        17.117662   -1.162106\n",
              "36329     21.033333        21.711107   -0.677774\n",
              "15729      7.161111         6.703371    0.457740\n",
              "...             ...              ...         ...\n",
              "78007      7.861111         8.473060   -0.611949\n",
              "26610     18.888889        19.248232   -0.359343\n",
              "80073     22.716667        22.150982    0.565685\n",
              "50334      7.505556         8.759730   -1.254175\n",
              "56241      1.111111         0.276199    0.834912\n",
              "\n",
              "[19291 rows x 3 columns]"
            ]
          },
          "metadata": {
            "tags": []
          },
          "execution_count": 89
        }
      ]
    },
    {
      "cell_type": "markdown",
      "metadata": {
        "id": "cAg3AvjtCZl-"
      },
      "source": [
        "The error for this model using Linear regression is — 0.90188"
      ]
    },
    {
      "cell_type": "code",
      "metadata": {
        "colab": {
          "base_uri": "https://localhost:8080/"
        },
        "id": "Dx9PZh4a_KQz",
        "outputId": "0d1321b5-fcfb-4490-e5c3-e22f4e657b2d"
      },
      "source": [
        "from sklearn.tree import DecisionTreeRegressor\r\n",
        "\r\n",
        "model_dt = DecisionTreeRegressor()          # create  DecisionTreeReg with sklearn\r\n",
        "model_dt.fit(X_train,y_train)"
      ],
      "execution_count": 90,
      "outputs": [
        {
          "output_type": "execute_result",
          "data": {
            "text/plain": [
              "DecisionTreeRegressor(ccp_alpha=0.0, criterion='mse', max_depth=None,\n",
              "                      max_features=None, max_leaf_nodes=None,\n",
              "                      min_impurity_decrease=0.0, min_impurity_split=None,\n",
              "                      min_samples_leaf=1, min_samples_split=2,\n",
              "                      min_weight_fraction_leaf=0.0, presort='deprecated',\n",
              "                      random_state=None, splitter='best')"
            ]
          },
          "metadata": {
            "tags": []
          },
          "execution_count": 90
        }
      ]
    },
    {
      "cell_type": "code",
      "metadata": {
        "colab": {
          "base_uri": "https://localhost:8080/"
        },
        "id": "BQyu0i8j_-ip",
        "outputId": "4eff705f-a7dd-4868-d333-d33efd592ba4"
      },
      "source": [
        "y_predictdt = model_dt.predict(X_test)\r\n",
        "np.mean((y_predictdt-y_test)**2)"
      ],
      "execution_count": 91,
      "outputs": [
        {
          "output_type": "execute_result",
          "data": {
            "text/plain": [
              "0.008888434509535694"
            ]
          },
          "metadata": {
            "tags": []
          },
          "execution_count": 91
        }
      ]
    },
    {
      "cell_type": "markdown",
      "metadata": {
        "id": "vQdNUDApWMPv"
      },
      "source": [
        "The Error using Decision tree is very less i.e 0.8%\r\n"
      ]
    },
    {
      "cell_type": "code",
      "metadata": {
        "colab": {
          "base_uri": "https://localhost:8080/",
          "height": 419
        },
        "id": "Gy2CSVfMMZMj",
        "outputId": "0a0a45d0-1f8b-40d2-c62a-6ac5777549b4"
      },
      "source": [
        "pd.DataFrame({'Actual Value':y_test,\r\n",
        "              'Predicted Value':y_predictdt,\r\n",
        "              'Difference':(y_test-y_predictdt)})"
      ],
      "execution_count": 92,
      "outputs": [
        {
          "output_type": "execute_result",
          "data": {
            "text/html": [
              "<div>\n",
              "<style scoped>\n",
              "    .dataframe tbody tr th:only-of-type {\n",
              "        vertical-align: middle;\n",
              "    }\n",
              "\n",
              "    .dataframe tbody tr th {\n",
              "        vertical-align: top;\n",
              "    }\n",
              "\n",
              "    .dataframe thead th {\n",
              "        text-align: right;\n",
              "    }\n",
              "</style>\n",
              "<table border=\"1\" class=\"dataframe\">\n",
              "  <thead>\n",
              "    <tr style=\"text-align: right;\">\n",
              "      <th></th>\n",
              "      <th>Actual Value</th>\n",
              "      <th>Predicted Value</th>\n",
              "      <th>Difference</th>\n",
              "    </tr>\n",
              "  </thead>\n",
              "  <tbody>\n",
              "    <tr>\n",
              "      <th>55917</th>\n",
              "      <td>2.777778</td>\n",
              "      <td>2.777778</td>\n",
              "      <td>-4.440892e-16</td>\n",
              "    </tr>\n",
              "    <tr>\n",
              "      <th>58165</th>\n",
              "      <td>14.844444</td>\n",
              "      <td>14.844444</td>\n",
              "      <td>7.105427e-15</td>\n",
              "    </tr>\n",
              "    <tr>\n",
              "      <th>75349</th>\n",
              "      <td>15.955556</td>\n",
              "      <td>15.955556</td>\n",
              "      <td>-3.552714e-15</td>\n",
              "    </tr>\n",
              "    <tr>\n",
              "      <th>36329</th>\n",
              "      <td>21.033333</td>\n",
              "      <td>21.033333</td>\n",
              "      <td>0.000000e+00</td>\n",
              "    </tr>\n",
              "    <tr>\n",
              "      <th>15729</th>\n",
              "      <td>7.161111</td>\n",
              "      <td>7.183333</td>\n",
              "      <td>-2.222222e-02</td>\n",
              "    </tr>\n",
              "    <tr>\n",
              "      <th>...</th>\n",
              "      <td>...</td>\n",
              "      <td>...</td>\n",
              "      <td>...</td>\n",
              "    </tr>\n",
              "    <tr>\n",
              "      <th>78007</th>\n",
              "      <td>7.861111</td>\n",
              "      <td>7.855556</td>\n",
              "      <td>5.555556e-03</td>\n",
              "    </tr>\n",
              "    <tr>\n",
              "      <th>26610</th>\n",
              "      <td>18.888889</td>\n",
              "      <td>18.888889</td>\n",
              "      <td>8.881784e-14</td>\n",
              "    </tr>\n",
              "    <tr>\n",
              "      <th>80073</th>\n",
              "      <td>22.716667</td>\n",
              "      <td>22.716667</td>\n",
              "      <td>0.000000e+00</td>\n",
              "    </tr>\n",
              "    <tr>\n",
              "      <th>50334</th>\n",
              "      <td>7.505556</td>\n",
              "      <td>7.505556</td>\n",
              "      <td>0.000000e+00</td>\n",
              "    </tr>\n",
              "    <tr>\n",
              "      <th>56241</th>\n",
              "      <td>1.111111</td>\n",
              "      <td>1.111111</td>\n",
              "      <td>2.220446e-16</td>\n",
              "    </tr>\n",
              "  </tbody>\n",
              "</table>\n",
              "<p>19291 rows × 3 columns</p>\n",
              "</div>"
            ],
            "text/plain": [
              "       Actual Value  Predicted Value    Difference\n",
              "55917      2.777778         2.777778 -4.440892e-16\n",
              "58165     14.844444        14.844444  7.105427e-15\n",
              "75349     15.955556        15.955556 -3.552714e-15\n",
              "36329     21.033333        21.033333  0.000000e+00\n",
              "15729      7.161111         7.183333 -2.222222e-02\n",
              "...             ...              ...           ...\n",
              "78007      7.861111         7.855556  5.555556e-03\n",
              "26610     18.888889        18.888889  8.881784e-14\n",
              "80073     22.716667        22.716667  0.000000e+00\n",
              "50334      7.505556         7.505556  0.000000e+00\n",
              "56241      1.111111         1.111111  2.220446e-16\n",
              "\n",
              "[19291 rows x 3 columns]"
            ]
          },
          "metadata": {
            "tags": []
          },
          "execution_count": 92
        }
      ]
    },
    {
      "cell_type": "code",
      "metadata": {
        "colab": {
          "base_uri": "https://localhost:8080/"
        },
        "id": "3ss9061aJo7S",
        "outputId": "e3302a43-a66a-4ea2-9f35-e416cc41bafe"
      },
      "source": [
        "#Random forest with max depth=10\r\n",
        "\r\n",
        "from sklearn.ensemble import RandomForestRegressor\r\n",
        "\r\n",
        "model_rf = RandomForestRegressor(n_estimators=100, random_state=0,max_depth=10)\r\n",
        "model_rf.fit(X_train,y_train)\r\n",
        "y_predictrf = model_rf.predict(X_test)\r\n",
        "np.mean((y_predictrf-y_test)**2)"
      ],
      "execution_count": 93,
      "outputs": [
        {
          "output_type": "execute_result",
          "data": {
            "text/plain": [
              "0.009208853956717672"
            ]
          },
          "metadata": {
            "tags": []
          },
          "execution_count": 93
        }
      ]
    },
    {
      "cell_type": "code",
      "metadata": {
        "colab": {
          "base_uri": "https://localhost:8080/",
          "height": 419
        },
        "id": "xoUzuv4DMgSy",
        "outputId": "29715a71-b5d6-4d05-ebbb-059a33377895"
      },
      "source": [
        "pd.DataFrame({'Actual Value':y_test,\r\n",
        "              'Predicted Value':y_predictrf,\r\n",
        "              'Difference':(y_test-y_predictrf)})"
      ],
      "execution_count": 94,
      "outputs": [
        {
          "output_type": "execute_result",
          "data": {
            "text/html": [
              "<div>\n",
              "<style scoped>\n",
              "    .dataframe tbody tr th:only-of-type {\n",
              "        vertical-align: middle;\n",
              "    }\n",
              "\n",
              "    .dataframe tbody tr th {\n",
              "        vertical-align: top;\n",
              "    }\n",
              "\n",
              "    .dataframe thead th {\n",
              "        text-align: right;\n",
              "    }\n",
              "</style>\n",
              "<table border=\"1\" class=\"dataframe\">\n",
              "  <thead>\n",
              "    <tr style=\"text-align: right;\">\n",
              "      <th></th>\n",
              "      <th>Actual Value</th>\n",
              "      <th>Predicted Value</th>\n",
              "      <th>Difference</th>\n",
              "    </tr>\n",
              "  </thead>\n",
              "  <tbody>\n",
              "    <tr>\n",
              "      <th>55917</th>\n",
              "      <td>2.777778</td>\n",
              "      <td>2.637407</td>\n",
              "      <td>0.140371</td>\n",
              "    </tr>\n",
              "    <tr>\n",
              "      <th>58165</th>\n",
              "      <td>14.844444</td>\n",
              "      <td>14.847059</td>\n",
              "      <td>-0.002615</td>\n",
              "    </tr>\n",
              "    <tr>\n",
              "      <th>75349</th>\n",
              "      <td>15.955556</td>\n",
              "      <td>15.956338</td>\n",
              "      <td>-0.000783</td>\n",
              "    </tr>\n",
              "    <tr>\n",
              "      <th>36329</th>\n",
              "      <td>21.033333</td>\n",
              "      <td>21.040910</td>\n",
              "      <td>-0.007577</td>\n",
              "    </tr>\n",
              "    <tr>\n",
              "      <th>15729</th>\n",
              "      <td>7.161111</td>\n",
              "      <td>7.087081</td>\n",
              "      <td>0.074030</td>\n",
              "    </tr>\n",
              "    <tr>\n",
              "      <th>...</th>\n",
              "      <td>...</td>\n",
              "      <td>...</td>\n",
              "      <td>...</td>\n",
              "    </tr>\n",
              "    <tr>\n",
              "      <th>78007</th>\n",
              "      <td>7.861111</td>\n",
              "      <td>7.807660</td>\n",
              "      <td>0.053451</td>\n",
              "    </tr>\n",
              "    <tr>\n",
              "      <th>26610</th>\n",
              "      <td>18.888889</td>\n",
              "      <td>18.887183</td>\n",
              "      <td>0.001706</td>\n",
              "    </tr>\n",
              "    <tr>\n",
              "      <th>80073</th>\n",
              "      <td>22.716667</td>\n",
              "      <td>22.718767</td>\n",
              "      <td>-0.002100</td>\n",
              "    </tr>\n",
              "    <tr>\n",
              "      <th>50334</th>\n",
              "      <td>7.505556</td>\n",
              "      <td>7.511636</td>\n",
              "      <td>-0.006080</td>\n",
              "    </tr>\n",
              "    <tr>\n",
              "      <th>56241</th>\n",
              "      <td>1.111111</td>\n",
              "      <td>1.087889</td>\n",
              "      <td>0.023222</td>\n",
              "    </tr>\n",
              "  </tbody>\n",
              "</table>\n",
              "<p>19291 rows × 3 columns</p>\n",
              "</div>"
            ],
            "text/plain": [
              "       Actual Value  Predicted Value  Difference\n",
              "55917      2.777778         2.637407    0.140371\n",
              "58165     14.844444        14.847059   -0.002615\n",
              "75349     15.955556        15.956338   -0.000783\n",
              "36329     21.033333        21.040910   -0.007577\n",
              "15729      7.161111         7.087081    0.074030\n",
              "...             ...              ...         ...\n",
              "78007      7.861111         7.807660    0.053451\n",
              "26610     18.888889        18.887183    0.001706\n",
              "80073     22.716667        22.718767   -0.002100\n",
              "50334      7.505556         7.511636   -0.006080\n",
              "56241      1.111111         1.087889    0.023222\n",
              "\n",
              "[19291 rows x 3 columns]"
            ]
          },
          "metadata": {
            "tags": []
          },
          "execution_count": 94
        }
      ]
    },
    {
      "cell_type": "code",
      "metadata": {
        "colab": {
          "base_uri": "https://localhost:8080/"
        },
        "id": "2EjpWFFuKjEy",
        "outputId": "d9948dac-4282-4f37-948b-37d43f482b57"
      },
      "source": [
        "#Random forest with max depth=50\r\n",
        "from sklearn.ensemble import RandomForestRegressor\r\n",
        "\r\n",
        "model_rf1 = RandomForestRegressor(n_estimators=100, random_state=0,max_depth=50)\r\n",
        "model_rf1.fit(X_train,y_train)\r\n",
        "y_predictrf1 = model_rf1.predict(X_test)\r\n",
        "np.mean((y_predictrf1-y_test)**2)"
      ],
      "execution_count": 95,
      "outputs": [
        {
          "output_type": "execute_result",
          "data": {
            "text/plain": [
              "0.0026680643153175424"
            ]
          },
          "metadata": {
            "tags": []
          },
          "execution_count": 95
        }
      ]
    },
    {
      "cell_type": "code",
      "metadata": {
        "colab": {
          "base_uri": "https://localhost:8080/",
          "height": 419
        },
        "id": "N1NkIMUUMoyG",
        "outputId": "929130b3-e468-4c57-8569-f5b6af078c3c"
      },
      "source": [
        "pd.DataFrame({'Actual Value':y_test,\r\n",
        "              'Predicted Value':y_predictrf1,\r\n",
        "              'Difference':(y_test-y_predictrf1)})"
      ],
      "execution_count": 96,
      "outputs": [
        {
          "output_type": "execute_result",
          "data": {
            "text/html": [
              "<div>\n",
              "<style scoped>\n",
              "    .dataframe tbody tr th:only-of-type {\n",
              "        vertical-align: middle;\n",
              "    }\n",
              "\n",
              "    .dataframe tbody tr th {\n",
              "        vertical-align: top;\n",
              "    }\n",
              "\n",
              "    .dataframe thead th {\n",
              "        text-align: right;\n",
              "    }\n",
              "</style>\n",
              "<table border=\"1\" class=\"dataframe\">\n",
              "  <thead>\n",
              "    <tr style=\"text-align: right;\">\n",
              "      <th></th>\n",
              "      <th>Actual Value</th>\n",
              "      <th>Predicted Value</th>\n",
              "      <th>Difference</th>\n",
              "    </tr>\n",
              "  </thead>\n",
              "  <tbody>\n",
              "    <tr>\n",
              "      <th>55917</th>\n",
              "      <td>2.777778</td>\n",
              "      <td>2.769944</td>\n",
              "      <td>7.833333e-03</td>\n",
              "    </tr>\n",
              "    <tr>\n",
              "      <th>58165</th>\n",
              "      <td>14.844444</td>\n",
              "      <td>14.844444</td>\n",
              "      <td>8.881784e-15</td>\n",
              "    </tr>\n",
              "    <tr>\n",
              "      <th>75349</th>\n",
              "      <td>15.955556</td>\n",
              "      <td>15.955556</td>\n",
              "      <td>1.953993e-14</td>\n",
              "    </tr>\n",
              "    <tr>\n",
              "      <th>36329</th>\n",
              "      <td>21.033333</td>\n",
              "      <td>21.033333</td>\n",
              "      <td>2.486900e-14</td>\n",
              "    </tr>\n",
              "    <tr>\n",
              "      <th>15729</th>\n",
              "      <td>7.161111</td>\n",
              "      <td>7.142611</td>\n",
              "      <td>1.850000e-02</td>\n",
              "    </tr>\n",
              "    <tr>\n",
              "      <th>...</th>\n",
              "      <td>...</td>\n",
              "      <td>...</td>\n",
              "      <td>...</td>\n",
              "    </tr>\n",
              "    <tr>\n",
              "      <th>78007</th>\n",
              "      <td>7.861111</td>\n",
              "      <td>7.854667</td>\n",
              "      <td>6.444444e-03</td>\n",
              "    </tr>\n",
              "    <tr>\n",
              "      <th>26610</th>\n",
              "      <td>18.888889</td>\n",
              "      <td>18.888889</td>\n",
              "      <td>0.000000e+00</td>\n",
              "    </tr>\n",
              "    <tr>\n",
              "      <th>80073</th>\n",
              "      <td>22.716667</td>\n",
              "      <td>22.716833</td>\n",
              "      <td>-1.666667e-04</td>\n",
              "    </tr>\n",
              "    <tr>\n",
              "      <th>50334</th>\n",
              "      <td>7.505556</td>\n",
              "      <td>7.505000</td>\n",
              "      <td>5.555556e-04</td>\n",
              "    </tr>\n",
              "    <tr>\n",
              "      <th>56241</th>\n",
              "      <td>1.111111</td>\n",
              "      <td>1.111111</td>\n",
              "      <td>-2.220446e-15</td>\n",
              "    </tr>\n",
              "  </tbody>\n",
              "</table>\n",
              "<p>19291 rows × 3 columns</p>\n",
              "</div>"
            ],
            "text/plain": [
              "       Actual Value  Predicted Value    Difference\n",
              "55917      2.777778         2.769944  7.833333e-03\n",
              "58165     14.844444        14.844444  8.881784e-15\n",
              "75349     15.955556        15.955556  1.953993e-14\n",
              "36329     21.033333        21.033333  2.486900e-14\n",
              "15729      7.161111         7.142611  1.850000e-02\n",
              "...             ...              ...           ...\n",
              "78007      7.861111         7.854667  6.444444e-03\n",
              "26610     18.888889        18.888889  0.000000e+00\n",
              "80073     22.716667        22.716833 -1.666667e-04\n",
              "50334      7.505556         7.505000  5.555556e-04\n",
              "56241      1.111111         1.111111 -2.220446e-15\n",
              "\n",
              "[19291 rows x 3 columns]"
            ]
          },
          "metadata": {
            "tags": []
          },
          "execution_count": 96
        }
      ]
    },
    {
      "cell_type": "code",
      "metadata": {
        "colab": {
          "base_uri": "https://localhost:8080/"
        },
        "id": "-Oe8QpcOSm2Y",
        "outputId": "716251a5-deec-46dd-be5c-d15922b38797"
      },
      "source": [
        "#model evaluation using r2 \r\n",
        "from sklearn.metrics import mean_squared_error,r2_score\r\n",
        "\r\n",
        "print(\"R2 Score: \" +\"{:.3}\".format(r2_score(y_test, y_predictdt)));"
      ],
      "execution_count": 98,
      "outputs": [
        {
          "output_type": "stream",
          "text": [
            "R2 Score: 1.0\n"
          ],
          "name": "stdout"
        }
      ]
    }
  ]
}