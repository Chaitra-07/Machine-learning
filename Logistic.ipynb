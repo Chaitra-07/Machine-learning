{
  "nbformat": 4,
  "nbformat_minor": 0,
  "metadata": {
    "colab": {
      "name": "Logistic.ipynb",
      "provenance": [],
      "authorship_tag": "ABX9TyNKziVk7ohJ/4U/O16mnQRM",
      "include_colab_link": true
    },
    "kernelspec": {
      "name": "python3",
      "display_name": "Python 3"
    }
  },
  "cells": [
    {
      "cell_type": "markdown",
      "metadata": {
        "id": "view-in-github",
        "colab_type": "text"
      },
      "source": [
        "<a href=\"https://colab.research.google.com/github/Chaitra-07/chai/blob/master/Logistic.ipynb\" target=\"_parent\"><img src=\"https://colab.research.google.com/assets/colab-badge.svg\" alt=\"Open In Colab\"/></a>"
      ]
    },
    {
      "cell_type": "code",
      "metadata": {
        "id": "aqOBN_2HaU_m",
        "colab_type": "code",
        "colab": {}
      },
      "source": [
        "import warnings\n",
        "warnings.filterwarnings('ignore')"
      ],
      "execution_count": 0,
      "outputs": []
    },
    {
      "cell_type": "code",
      "metadata": {
        "id": "pxT1tzPlYI6P",
        "colab_type": "code",
        "colab": {}
      },
      "source": [
        "import numpy as np # linear algebra\n",
        "import pandas as pd # data processing, CSV file I/O (e.g. pd.read_csv)\n",
        "import matplotlib.pyplot as plt"
      ],
      "execution_count": 0,
      "outputs": []
    },
    {
      "cell_type": "code",
      "metadata": {
        "id": "qTFpavDCqOyC",
        "colab_type": "code",
        "colab": {
          "base_uri": "https://localhost:8080/",
          "height": 122
        },
        "outputId": "d5704656-2e68-44b2-da90-134d6d702c54"
      },
      "source": [
        "from google.colab import drive\n",
        "drive.mount('/content/gdrive')"
      ],
      "execution_count": 4,
      "outputs": [
        {
          "output_type": "stream",
          "text": [
            "Go to this URL in a browser: https://accounts.google.com/o/oauth2/auth?client_id=947318989803-6bn6qk8qdgf4n4g3pfee6491hc0brc4i.apps.googleusercontent.com&redirect_uri=urn%3aietf%3awg%3aoauth%3a2.0%3aoob&response_type=code&scope=email%20https%3a%2f%2fwww.googleapis.com%2fauth%2fdocs.test%20https%3a%2f%2fwww.googleapis.com%2fauth%2fdrive%20https%3a%2f%2fwww.googleapis.com%2fauth%2fdrive.photos.readonly%20https%3a%2f%2fwww.googleapis.com%2fauth%2fpeopleapi.readonly\n",
            "\n",
            "Enter your authorization code:\n",
            "··········\n",
            "Mounted at /content/gdrive\n"
          ],
          "name": "stdout"
        }
      ]
    },
    {
      "cell_type": "code",
      "metadata": {
        "id": "0sNNXEsYYcZ5",
        "colab_type": "code",
        "outputId": "a8057c88-6ecc-4607-dd9b-6aaec7f1cc96",
        "colab": {
          "base_uri": "https://localhost:8080/",
          "height": 220
        }
      },
      "source": [
        "x_1 = np.load('gdrive/My Drive/mydataset/X.npy')\n",
        "y_1 = np.load('gdrive/My Drive/mydataset/Y.npy')\n",
        "img_size = 64 # our pixel size.\n",
        "\n",
        "plt.subplot(1,2,1)   # subplot : sign zero\n",
        "plt.imshow(x_1[205]) # show image at specified index number\n",
        "plt.axis('off')      # don't show the axis of sign zero\n",
        "plt.subplot(1,2,2)   # subplot : sign one\n",
        "plt.imshow(x_1[822]) # I didn't remove the axis since we can see sizes of our image."
      ],
      "execution_count": 5,
      "outputs": [
        {
          "output_type": "execute_result",
          "data": {
            "text/plain": [
              "<matplotlib.image.AxesImage at 0x7f467b4d92e8>"
            ]
          },
          "metadata": {
            "tags": []
          },
          "execution_count": 5
        },
        {
          "output_type": "display_data",
          "data": {
            "image/png": "[encoded data removed]",
            "text/plain": [
              "<Figure size 432x288 with 2 Axes>"
            ]
          },
          "metadata": {
            "tags": []
          }
        }
      ]
    },
    {
      "cell_type": "code",
      "metadata": {
        "id": "AdCUFHcKYg1r",
        "colab_type": "code",
        "colab": {
          "base_uri": "https://localhost:8080/",
          "height": 51
        },
        "outputId": "567795cb-f48e-4379-d0f9-36b383447de4"
      },
      "source": [
        "x = np.concatenate((x_1[204:409], x_1[822:1027]), axis=0) # concatenate two array along axis 0 (horizontally)\n",
        "\n",
        "# Now we create an appropriate array for outputs consisting zeros & ones.\n",
        "z = np.zeros(205)\n",
        "o = np.ones(205)\n",
        "y = np.concatenate((z,o), axis=0).reshape(x.shape[0], 1) # concatenate 'z' & 'o' and make it a 2D array\n",
        "                                                         # (first it was a 1D array with shape (410, ) )\n",
        "\n",
        "# let's see the shapes of input and output\n",
        "print('x shape: {}'.format(x.shape))\n",
        "print('y shape: {}'.format(y.shape))"
      ],
      "execution_count": 6,
      "outputs": [
        {
          "output_type": "stream",
          "text": [
            "x shape: (410, 64, 64)\n",
            "y shape: (410, 1)\n"
          ],
          "name": "stdout"
        }
      ]
    },
    {
      "cell_type": "code",
      "metadata": {
        "id": "UIpkNMmnq_tK",
        "colab_type": "code",
        "colab": {
          "base_uri": "https://localhost:8080/",
          "height": 34
        },
        "outputId": "ce72b23f-23d4-4170-d19d-b27d803428c2"
      },
      "source": [
        "\n",
        "from sklearn.model_selection import train_test_split\n",
        "x_train, x_test, y_train, y_test = train_test_split(x, y, test_size = 0.1, random_state = 42)\n",
        "print(x_train.shape)"
      ],
      "execution_count": 7,
      "outputs": [
        {
          "output_type": "stream",
          "text": [
            "(369, 64, 64)\n"
          ],
          "name": "stdout"
        }
      ]
    },
    {
      "cell_type": "code",
      "metadata": {
        "id": "OCPpsva_rC9K",
        "colab_type": "code",
        "colab": {
          "base_uri": "https://localhost:8080/",
          "height": 34
        },
        "outputId": "a88e0a86-71e1-47da-b5c3-339b53578b20"
      },
      "source": [
        "x_test.shape[0]\n"
      ],
      "execution_count": 8,
      "outputs": [
        {
          "output_type": "execute_result",
          "data": {
            "text/plain": [
              "41"
            ]
          },
          "metadata": {
            "tags": []
          },
          "execution_count": 8
        }
      ]
    },
    {
      "cell_type": "code",
      "metadata": {
        "id": "jfMs9CoIrFNn",
        "colab_type": "code",
        "colab": {
          "base_uri": "https://localhost:8080/",
          "height": 51
        },
        "outputId": "7f2467a9-ac6e-469b-caf3-010db99f7bee"
      },
      "source": [
        "x_train_new = x_train.reshape(x_train.shape[0], x_train.shape[1] * x_train.shape[2])\n",
        "x_test_new = x_test.reshape(x_test.shape[0], x_test.shape[1] * x_test.shape[2])\n",
        "\n",
        "print('x_train new : {}\\nx_test_new : {}'.format(x_train_new.shape, x_test_new.shape))"
      ],
      "execution_count": 9,
      "outputs": [
        {
          "output_type": "stream",
          "text": [
            "x_train new : (369, 4096)\n",
            "x_test_new : (41, 4096)\n"
          ],
          "name": "stdout"
        }
      ]
    },
    {
      "cell_type": "code",
      "metadata": {
        "id": "tJ4SskZWrJeX",
        "colab_type": "code",
        "colab": {
          "base_uri": "https://localhost:8080/",
          "height": 85
        },
        "outputId": "babe1654-37e9-4c8a-d0b5-308efb3921c2"
      },
      "source": [
        "x_train = x_train_new.T\n",
        "x_test = x_test_new.T\n",
        "y_train = y_train.T\n",
        "y_test = y_test.T\n",
        "print(\"x train: \",x_train.shape)\n",
        "print(\"x test: \",x_test.shape)\n",
        "print(\"y train: \",y_train.shape)\n",
        "print(\"y test: \",y_test.shape)"
      ],
      "execution_count": 10,
      "outputs": [
        {
          "output_type": "stream",
          "text": [
            "x train:  (4096, 369)\n",
            "x test:  (4096, 41)\n",
            "y train:  (1, 369)\n",
            "y test:  (1, 41)\n"
          ],
          "name": "stdout"
        }
      ]
    },
    {
      "cell_type": "code",
      "metadata": {
        "id": "Obmn5f_SrMZB",
        "colab_type": "code",
        "colab": {}
      },
      "source": [
        "def initialize_params(dimension):\n",
        "    w = np.full((dimension, 1), 0.01) # first value of weights are 0.01\n",
        "    b = 0                             # first value of bias is zero\n",
        "    return w, b                       # return the necessary values that'll be used later in order to finish functions everytime\n",
        "\n",
        "def sigmoid(z):\n",
        "    y_head = 1/ (1+ np.exp(-z))\n",
        "    return y_head"
      ],
      "execution_count": 0,
      "outputs": []
    },
    {
      "cell_type": "code",
      "metadata": {
        "id": "iPOmGFjqrQP_",
        "colab_type": "code",
        "colab": {}
      },
      "source": [
        "# Forward & Backward Propagation\n",
        "def forward_backward_propagation(w, b, x_train, y_train):\n",
        "    # Forward Propagation\n",
        "    z = np.dot(w.T, x_train) + b                                     # z function consisting parameters w, b \n",
        "    y_head = sigmoid(z)                                              # get the probability through sigmoid fucntion\n",
        "    loss = -(1 - y_train)*np.log(1 - y_head) - y_train*np.log(y_head)# the formula of loss function\n",
        "    cost = (np.sum(loss)) / (x_train.shape[1])                       # cost function : sum of the loss function of every image\n",
        "    \n",
        "    # Backward Propagation\n",
        "    derivative_weight = (np.dot(x_train,((y_head-y_train).T)))/x_train.shape[1] # derivative of cost function with respect to 'w'\n",
        "    derivative_bias = np.sum(y_head-y_train) / x_train.shape[1]                 # derivative of cost function with respect to 'b'\n",
        "    gradients = {\"derivative_weight\": derivative_weight,\"derivative_bias\": derivative_bias} # creating a dictionary to store w & b values\n",
        "    \n",
        "    return cost,gradients   # return cost and gradients which will be used later"
      ],
      "execution_count": 0,
      "outputs": []
    },
    {
      "cell_type": "code",
      "metadata": {
        "id": "AgTmcsFRrTBJ",
        "colab_type": "code",
        "colab": {}
      },
      "source": [
        "# Updating Parameters\n",
        "def update(w, b, x_train, y_train, learning_rate, number_of_iterarion):\n",
        "\n",
        "    costs = [] # that'll be used for visualizate cost with respect to iteration count\n",
        "    index = [] # same here as one row above\n",
        "\n",
        "    for i in range(number_of_iterarion):    # do it as iteration count\n",
        "        cost,gradients = forward_backward_propagation(w,b,x_train,y_train)  # return updated cost and gradients every iteration by calling function.\n",
        "     \n",
        "        w = w - learning_rate * gradients[\"derivative_weight\"]              # update weights\n",
        "        b = b - learning_rate * gradients[\"derivative_bias\"]                # update bias\n",
        "        if i%10 == 0:                                            # in every ten iterations\n",
        "            costs.append(cost)                                   # store cost in list(costs)\n",
        "            index.append(i)                                      # store iteration number in the list : index\n",
        "            print (\"cost at iteration {} : {}\".format(i, cost))\n",
        "    \n",
        "    parameters = {\"w\": w,\"b\": b}  # most optimized weights & bias is stored in 'parameters' dictionary\n",
        "    plt.plot(index,costs)         # plotting index vs costs\n",
        "    plt.xticks(index,rotation='vertical')\n",
        "    plt.xlabel(\"Number of Iterarion\")\n",
        "    plt.ylabel(\"Cost\")\n",
        "    plt.show()\n",
        "    return parameters # return parameters which will be used later"
      ],
      "execution_count": 0,
      "outputs": []
    },
    {
      "cell_type": "code",
      "metadata": {
        "id": "9L4A_QSfrWeX",
        "colab_type": "code",
        "colab": {}
      },
      "source": [
        "def predict(w,b,x_test):\n",
        "    z = sigmoid(np.dot(w.T, x_test) + b)   # new \"y_head\" function full of probabilistic values of x_test data\n",
        "    y_pred = np.zeros((1,x_test.shape[1])) # form a matrix full of zeros so as to change later\n",
        "    for i in range(x_test.shape[1]):       # for every values of \"y_head\"\n",
        "        if z[0,i] <= 0.5:                  # if y_head <= 0.5 which is our threshold,\n",
        "            y_pred[0,i] = 0                # then predict it as sign zero.\n",
        "        else:\n",
        "            y_pred[0,i] = 1                # else if it's greater than 0.5, then let it be sign one.\n",
        "\n",
        "    return y_pred               "
      ],
      "execution_count": 0,
      "outputs": []
    },
    {
      "cell_type": "code",
      "metadata": {
        "id": "zxxR1k8ArZst",
        "colab_type": "code",
        "colab": {
          "base_uri": "https://localhost:8080/",
          "height": 628
        },
        "outputId": "fb6fc4e5-1c70-4c7c-e7db-53e861f79ddb"
      },
      "source": [
        "def logistic_regression(x_train, y_train, x_test, y_test, learning_rate, iterations):\n",
        "    \n",
        "    dimension =  x_train.shape[0]      # set the dimension on the same value as images\n",
        "    w,b = initialize_params(dimension) # return w & b\n",
        "\n",
        "    parameters = update(w, b, x_train, y_train, learning_rate, iterations)  # forward & backward propagation : return brand new updated params\n",
        "    \n",
        "    y_pred_test  = predict(parameters[\"w\"],parameters[\"b\"], x_test)  # overfit check if it occured an overfitting situation, then the accuracy of-\n",
        "    y_pred_train = predict(parameters[\"w\"],parameters[\"b\"], x_train) # test values would be significantly low as opposed to accuracy of train values.      \n",
        "\n",
        "    print(\"train accuracy: {}\".format(100 - np.mean(np.abs(y_pred_train - y_train)) * 100)) # train accuracy\n",
        "    print(\"test accuracy:  {}\".format(100 - np.mean(np.abs(y_pred_test - y_test)) * 100))   # test acuracy - no overfitting or underfitting\n",
        "    \n",
        "logistic_regression(x_train, y_train, x_test, y_test, learning_rate = 0.02, iterations = 180) # perform logistic regression classification"
      ],
      "execution_count": 21,
      "outputs": [
        {
          "output_type": "stream",
          "text": [
            "cost at iteration 0 : 14.077381712973677\n",
            "cost at iteration 10 : 4.562699761826225\n",
            "cost at iteration 20 : 3.2163955358866323\n",
            "cost at iteration 30 : 2.2341440768413743\n",
            "cost at iteration 40 : 2.1463708695229844\n",
            "cost at iteration 50 : 2.2812316330752007\n",
            "cost at iteration 60 : 2.424470522347554\n",
            "cost at iteration 70 : 2.4679615876359757\n",
            "cost at iteration 80 : 2.3006357517762654\n",
            "cost at iteration 90 : 1.971369460065287\n",
            "cost at iteration 100 : 1.355804170070554\n",
            "cost at iteration 110 : 0.3694444469535912\n",
            "cost at iteration 120 : 0.19467876354910033\n",
            "cost at iteration 130 : 0.1831996442063768\n",
            "cost at iteration 140 : 0.17371114681861943\n",
            "cost at iteration 150 : 0.16518141472879583\n",
            "cost at iteration 160 : 0.1575155982039235\n",
            "cost at iteration 170 : 0.15062740468402083\n"
          ],
          "name": "stdout"
        },
        {
          "output_type": "display_data",
          "data": {
            "image/png": "[encoded data removed]",
            "text/plain": [
              "<Figure size 432x288 with 1 Axes>"
            ]
          },
          "metadata": {
            "tags": []
          }
        },
        {
          "output_type": "stream",
          "text": [
            "train accuracy: 93.22493224932249\n",
            "test accuracy:  95.1219512195122\n"
          ],
          "name": "stdout"
        }
      ]
    },
    {
      "cell_type": "markdown",
      "metadata": {
        "id": "UvPSOVqFsDMq",
        "colab_type": "text"
      },
      "source": [
        "**LOGISTIC REGRESSION WITH SCIKIT-LEARN**"
      ]
    },
    {
      "cell_type": "code",
      "metadata": {
        "id": "v_pjUfvKrcBq",
        "colab_type": "code",
        "colab": {
          "base_uri": "https://localhost:8080/",
          "height": 51
        },
        "outputId": "a31b2cc8-0e6f-48bc-a132-eb39a92a7370"
      },
      "source": [
        "# Grid Search\n",
        "\n",
        "from sklearn.model_selection import GridSearchCV    # import Grid Search Cross Validation to find optimujm parameters\n",
        "from sklearn.linear_model import LogisticRegression # import Logistic Regression\n",
        "lr = LogisticRegression()  \n",
        "\n",
        "parameters = {'C':np.logspace(-5,5,11), 'penalty':['l1', 'l2']} # create a dictionary  within Logistic Regression parameters inside\n",
        "lr_cv = GridSearchCV(lr, parameters, cv = 10)                   # method, parameters of that method, count of Cross Validation.\n",
        "lr_cv.fit(x_train.T, y_train.T)                                 # fit the model for our values\n",
        "\n",
        "print('tuned hyperparameters : {}'.format(lr_cv.best_params_))  # Now we'll se best parameters among the \"parameters\"\n",
        "print('best score: {}'.format(lr_cv.best_score_))               # Best score of the Logistic Regression with best parameters"
      ],
      "execution_count": 22,
      "outputs": [
        {
          "output_type": "stream",
          "text": [
            "tuned hyperparameters : {'C': 100000.0, 'penalty': 'l2'}\n",
            "best score: 0.981081081081081\n"
          ],
          "name": "stdout"
        }
      ]
    },
    {
      "cell_type": "code",
      "metadata": {
        "id": "DDg4-k4csHUi",
        "colab_type": "code",
        "colab": {
          "base_uri": "https://localhost:8080/",
          "height": 34
        },
        "outputId": "f8600205-6bd6-44a6-ca5b-73ebe1f44d9f"
      },
      "source": [
        "# Logistic Regression\n",
        "\n",
        "lr2 = LogisticRegression(C=1.0, penalty = 'l2') # Use the parameters within Logistic Regression\n",
        "lr2.fit(x_train.T, y_train.T)                   # fit the model for our train values\n",
        "\n",
        "print('score for test values: {}'.format(lr2.score(x_test.T, y_test.T))) # test score"
      ],
      "execution_count": 23,
      "outputs": [
        {
          "output_type": "stream",
          "text": [
            "score for test values: 0.9512195121951219\n"
          ],
          "name": "stdout"
        }
      ]
    },
    {
      "cell_type": "code",
      "metadata": {
        "id": "PT6AmRUOsO2O",
        "colab_type": "code",
        "colab": {}
      },
      "source": [
        ""
      ],
      "execution_count": 0,
      "outputs": []
    }
  ]
}