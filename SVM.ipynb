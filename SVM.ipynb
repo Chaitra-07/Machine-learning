{
  "nbformat": 4,
  "nbformat_minor": 0,
  "metadata": {
    "colab": {
      "name": "SVM.ipynb",
      "provenance": [],
      "collapsed_sections": [],
      "include_colab_link": true
    },
    "kernelspec": {
      "name": "python3",
      "display_name": "Python 3"
    }
  },
  "cells": [
    {
      "cell_type": "markdown",
      "metadata": {
        "id": "view-in-github",
        "colab_type": "text"
      },
      "source": [
        "<a href=\"https://colab.research.google.com/github/Chaitra-07/chai/blob/master/SVM.ipynb\" target=\"_parent\"><img src=\"https://colab.research.google.com/assets/colab-badge.svg\" alt=\"Open In Colab\"/></a>"
      ]
    },
    {
      "cell_type": "markdown",
      "metadata": {
        "id": "Vj53A9-VBI60",
        "colab_type": "text"
      },
      "source": [
        "**Support Vector Machine**\n",
        "17-nov-19"
      ]
    },
    {
      "cell_type": "markdown",
      "metadata": {
        "id": "PmOsFabsBt11",
        "colab_type": "text"
      },
      "source": [
        "knn for multiclass.\n",
        "svm for linear features.\n",
        "kernelling is used if it is non linear.\n",
        "polinomial regression of degre 1 is linear regression.\n",
        "polinomial is for curved line .\n",
        "\n",
        "\n"
      ]
    },
    {
      "cell_type": "code",
      "metadata": {
        "id": "238oXmTvAMb2",
        "colab_type": "code",
        "outputId": "9a0a9542-a65f-427a-95d8-9140df1a39de",
        "colab": {
          "base_uri": "https://localhost:8080/",
          "height": 122
        }
      },
      "source": [
        "from google.colab import drive\n",
        "drive.mount('/content/gdrive')"
      ],
      "execution_count": 0,
      "outputs": [
        {
          "output_type": "stream",
          "text": [
            "Go to this URL in a browser: https://accounts.google.com/o/oauth2/auth?client_id=947318989803-6bn6qk8qdgf4n4g3pfee6491hc0brc4i.apps.googleusercontent.com&redirect_uri=urn%3aietf%3awg%3aoauth%3a2.0%3aoob&response_type=code&scope=email%20https%3a%2f%2fwww.googleapis.com%2fauth%2fdocs.test%20https%3a%2f%2fwww.googleapis.com%2fauth%2fdrive%20https%3a%2f%2fwww.googleapis.com%2fauth%2fdrive.photos.readonly%20https%3a%2f%2fwww.googleapis.com%2fauth%2fpeopleapi.readonly\n",
            "\n",
            "Enter your authorization code:\n",
            "··········\n",
            "Mounted at /content/gdrive\n"
          ],
          "name": "stdout"
        }
      ]
    },
    {
      "cell_type": "code",
      "metadata": {
        "id": "eu9AzmO6ANTy",
        "colab_type": "code",
        "colab": {}
      },
      "source": [
        "import pandas as pd\n",
        "import numpy as np\n",
        "import matplotlib.pyplot as plt\n",
        "import seaborn as sb"
      ],
      "execution_count": 0,
      "outputs": []
    },
    {
      "cell_type": "code",
      "metadata": {
        "id": "oK4g_z6yArqD",
        "colab_type": "code",
        "colab": {}
      },
      "source": [
        "bankdata = pd.read_csv('gdrive/My Drive/Datasets/bill_authentication.csv')"
      ],
      "execution_count": 0,
      "outputs": []
    },
    {
      "cell_type": "code",
      "metadata": {
        "id": "cWFbJ6bqAz-K",
        "colab_type": "code",
        "outputId": "c30fc596-054a-4608-dc07-766d0420a924",
        "colab": {
          "base_uri": "https://localhost:8080/",
          "height": 34
        }
      },
      "source": [
        "bankdata.shape"
      ],
      "execution_count": 0,
      "outputs": [
        {
          "output_type": "execute_result",
          "data": {
            "text/plain": [
              "(1372, 5)"
            ]
          },
          "metadata": {
            "tags": []
          },
          "execution_count": 4
        }
      ]
    },
    {
      "cell_type": "code",
      "metadata": {
        "id": "-lG8M62VA25M",
        "colab_type": "code",
        "outputId": "c8615783-76e0-477f-96f3-e7068d4878ec",
        "colab": {
          "base_uri": "https://localhost:8080/",
          "height": 204
        }
      },
      "source": [
        "bankdata.head()"
      ],
      "execution_count": 0,
      "outputs": [
        {
          "output_type": "execute_result",
          "data": {
            "text/html": [
              "<div>\n",
              "<style scoped>\n",
              "    .dataframe tbody tr th:only-of-type {\n",
              "        vertical-align: middle;\n",
              "    }\n",
              "\n",
              "    .dataframe tbody tr th {\n",
              "        vertical-align: top;\n",
              "    }\n",
              "\n",
              "    .dataframe thead th {\n",
              "        text-align: right;\n",
              "    }\n",
              "</style>\n",
              "<table border=\"1\" class=\"dataframe\">\n",
              "  <thead>\n",
              "    <tr style=\"text-align: right;\">\n",
              "      <th></th>\n",
              "      <th>Variance</th>\n",
              "      <th>Skewness</th>\n",
              "      <th>Curtosis</th>\n",
              "      <th>Entropy</th>\n",
              "      <th>Class</th>\n",
              "    </tr>\n",
              "  </thead>\n",
              "  <tbody>\n",
              "    <tr>\n",
              "      <th>0</th>\n",
              "      <td>3.62160</td>\n",
              "      <td>8.6661</td>\n",
              "      <td>-2.8073</td>\n",
              "      <td>-0.44699</td>\n",
              "      <td>0</td>\n",
              "    </tr>\n",
              "    <tr>\n",
              "      <th>1</th>\n",
              "      <td>4.54590</td>\n",
              "      <td>8.1674</td>\n",
              "      <td>-2.4586</td>\n",
              "      <td>-1.46210</td>\n",
              "      <td>0</td>\n",
              "    </tr>\n",
              "    <tr>\n",
              "      <th>2</th>\n",
              "      <td>3.86600</td>\n",
              "      <td>-2.6383</td>\n",
              "      <td>1.9242</td>\n",
              "      <td>0.10645</td>\n",
              "      <td>0</td>\n",
              "    </tr>\n",
              "    <tr>\n",
              "      <th>3</th>\n",
              "      <td>3.45660</td>\n",
              "      <td>9.5228</td>\n",
              "      <td>-4.0112</td>\n",
              "      <td>-3.59440</td>\n",
              "      <td>0</td>\n",
              "    </tr>\n",
              "    <tr>\n",
              "      <th>4</th>\n",
              "      <td>0.32924</td>\n",
              "      <td>-4.4552</td>\n",
              "      <td>4.5718</td>\n",
              "      <td>-0.98880</td>\n",
              "      <td>0</td>\n",
              "    </tr>\n",
              "  </tbody>\n",
              "</table>\n",
              "</div>"
            ],
            "text/plain": [
              "   Variance  Skewness  Curtosis  Entropy  Class\n",
              "0   3.62160    8.6661   -2.8073 -0.44699      0\n",
              "1   4.54590    8.1674   -2.4586 -1.46210      0\n",
              "2   3.86600   -2.6383    1.9242  0.10645      0\n",
              "3   3.45660    9.5228   -4.0112 -3.59440      0\n",
              "4   0.32924   -4.4552    4.5718 -0.98880      0"
            ]
          },
          "metadata": {
            "tags": []
          },
          "execution_count": 5
        }
      ]
    },
    {
      "cell_type": "code",
      "metadata": {
        "id": "PWBFky_PBXVS",
        "colab_type": "code",
        "colab": {}
      },
      "source": [
        "X = bankdata.drop('Class',axis = 1)\n",
        "y = bankdata['Class']"
      ],
      "execution_count": 0,
      "outputs": []
    },
    {
      "cell_type": "code",
      "metadata": {
        "id": "cfzFgpoACFuJ",
        "colab_type": "code",
        "outputId": "dcd9295d-c1bf-49e2-e0d6-3e28c1584a0f",
        "colab": {
          "base_uri": "https://localhost:8080/",
          "height": 297
        }
      },
      "source": [
        "bankdata.describe()"
      ],
      "execution_count": 0,
      "outputs": [
        {
          "output_type": "execute_result",
          "data": {
            "text/html": [
              "<div>\n",
              "<style scoped>\n",
              "    .dataframe tbody tr th:only-of-type {\n",
              "        vertical-align: middle;\n",
              "    }\n",
              "\n",
              "    .dataframe tbody tr th {\n",
              "        vertical-align: top;\n",
              "    }\n",
              "\n",
              "    .dataframe thead th {\n",
              "        text-align: right;\n",
              "    }\n",
              "</style>\n",
              "<table border=\"1\" class=\"dataframe\">\n",
              "  <thead>\n",
              "    <tr style=\"text-align: right;\">\n",
              "      <th></th>\n",
              "      <th>Variance</th>\n",
              "      <th>Skewness</th>\n",
              "      <th>Curtosis</th>\n",
              "      <th>Entropy</th>\n",
              "      <th>Class</th>\n",
              "    </tr>\n",
              "  </thead>\n",
              "  <tbody>\n",
              "    <tr>\n",
              "      <th>count</th>\n",
              "      <td>1372.000000</td>\n",
              "      <td>1372.000000</td>\n",
              "      <td>1372.000000</td>\n",
              "      <td>1372.000000</td>\n",
              "      <td>1372.000000</td>\n",
              "    </tr>\n",
              "    <tr>\n",
              "      <th>mean</th>\n",
              "      <td>0.433735</td>\n",
              "      <td>1.922353</td>\n",
              "      <td>1.397627</td>\n",
              "      <td>-1.191657</td>\n",
              "      <td>0.444606</td>\n",
              "    </tr>\n",
              "    <tr>\n",
              "      <th>std</th>\n",
              "      <td>2.842763</td>\n",
              "      <td>5.869047</td>\n",
              "      <td>4.310030</td>\n",
              "      <td>2.101013</td>\n",
              "      <td>0.497103</td>\n",
              "    </tr>\n",
              "    <tr>\n",
              "      <th>min</th>\n",
              "      <td>-7.042100</td>\n",
              "      <td>-13.773100</td>\n",
              "      <td>-5.286100</td>\n",
              "      <td>-8.548200</td>\n",
              "      <td>0.000000</td>\n",
              "    </tr>\n",
              "    <tr>\n",
              "      <th>25%</th>\n",
              "      <td>-1.773000</td>\n",
              "      <td>-1.708200</td>\n",
              "      <td>-1.574975</td>\n",
              "      <td>-2.413450</td>\n",
              "      <td>0.000000</td>\n",
              "    </tr>\n",
              "    <tr>\n",
              "      <th>50%</th>\n",
              "      <td>0.496180</td>\n",
              "      <td>2.319650</td>\n",
              "      <td>0.616630</td>\n",
              "      <td>-0.586650</td>\n",
              "      <td>0.000000</td>\n",
              "    </tr>\n",
              "    <tr>\n",
              "      <th>75%</th>\n",
              "      <td>2.821475</td>\n",
              "      <td>6.814625</td>\n",
              "      <td>3.179250</td>\n",
              "      <td>0.394810</td>\n",
              "      <td>1.000000</td>\n",
              "    </tr>\n",
              "    <tr>\n",
              "      <th>max</th>\n",
              "      <td>6.824800</td>\n",
              "      <td>12.951600</td>\n",
              "      <td>17.927400</td>\n",
              "      <td>2.449500</td>\n",
              "      <td>1.000000</td>\n",
              "    </tr>\n",
              "  </tbody>\n",
              "</table>\n",
              "</div>"
            ],
            "text/plain": [
              "          Variance     Skewness     Curtosis      Entropy        Class\n",
              "count  1372.000000  1372.000000  1372.000000  1372.000000  1372.000000\n",
              "mean      0.433735     1.922353     1.397627    -1.191657     0.444606\n",
              "std       2.842763     5.869047     4.310030     2.101013     0.497103\n",
              "min      -7.042100   -13.773100    -5.286100    -8.548200     0.000000\n",
              "25%      -1.773000    -1.708200    -1.574975    -2.413450     0.000000\n",
              "50%       0.496180     2.319650     0.616630    -0.586650     0.000000\n",
              "75%       2.821475     6.814625     3.179250     0.394810     1.000000\n",
              "max       6.824800    12.951600    17.927400     2.449500     1.000000"
            ]
          },
          "metadata": {
            "tags": []
          },
          "execution_count": 7
        }
      ]
    },
    {
      "cell_type": "code",
      "metadata": {
        "id": "CheDfWaSCI_D",
        "colab_type": "code",
        "outputId": "3696d096-fc53-4cea-8a0f-537a8bf8435a",
        "colab": {
          "base_uri": "https://localhost:8080/",
          "height": 613
        }
      },
      "source": [
        "bankdata.groupby('Class').hist()"
      ],
      "execution_count": 0,
      "outputs": [
        {
          "output_type": "execute_result",
          "data": {
            "text/plain": [
              "Class\n",
              "0    [[AxesSubplot(0.125,0.551739;0.336957x0.328261...\n",
              "1    [[AxesSubplot(0.125,0.551739;0.336957x0.328261...\n",
              "dtype: object"
            ]
          },
          "metadata": {
            "tags": []
          },
          "execution_count": 8
        },
        {
          "output_type": "display_data",
          "data": {
            "image/png": "[encoded data removed]",
            "text/plain": [
              "<Figure size 432x288 with 4 Axes>"
            ]
          },
          "metadata": {
            "tags": []
          }
        },
        {
          "output_type": "display_data",
          "data": {
            "image/png": "[encoded data removed]",
            "text/plain": [
              "<Figure size 432x288 with 4 Axes>"
            ]
          },
          "metadata": {
            "tags": []
          }
        }
      ]
    },
    {
      "cell_type": "code",
      "metadata": {
        "id": "U7vB8e6RCdU5",
        "colab_type": "code",
        "outputId": "c32928b6-fdf1-49e5-8c20-41cd7513e8ea",
        "colab": {
          "base_uri": "https://localhost:8080/",
          "height": 187
        }
      },
      "source": [
        "bankdata.info()"
      ],
      "execution_count": 0,
      "outputs": [
        {
          "output_type": "stream",
          "text": [
            "<class 'pandas.core.frame.DataFrame'>\n",
            "RangeIndex: 1372 entries, 0 to 1371\n",
            "Data columns (total 5 columns):\n",
            "Variance    1372 non-null float64\n",
            "Skewness    1372 non-null float64\n",
            "Curtosis    1372 non-null float64\n",
            "Entropy     1372 non-null float64\n",
            "Class       1372 non-null int64\n",
            "dtypes: float64(4), int64(1)\n",
            "memory usage: 53.7 KB\n"
          ],
          "name": "stdout"
        }
      ]
    },
    {
      "cell_type": "code",
      "metadata": {
        "id": "qswON3VsC1fY",
        "colab_type": "code",
        "colab": {}
      },
      "source": [
        "from sklearn.model_selection import train_test_split\n",
        "X_train, X_test, y_train, y_test = train_test_split(X,y, test_size = 0.2)"
      ],
      "execution_count": 0,
      "outputs": []
    },
    {
      "cell_type": "code",
      "metadata": {
        "id": "RW0DTixaDU4P",
        "colab_type": "code",
        "outputId": "657f6dbc-ba16-4c4f-a14f-fc0783ccefc5",
        "colab": {
          "base_uri": "https://localhost:8080/",
          "height": 85
        }
      },
      "source": [
        "from sklearn.svm import SVC\n",
        "clf = SVC(kernel='linear', probability=True)\n",
        "clf.fit(X_train, y_train)"
      ],
      "execution_count": 0,
      "outputs": [
        {
          "output_type": "execute_result",
          "data": {
            "text/plain": [
              "SVC(C=1.0, cache_size=200, class_weight=None, coef0=0.0,\n",
              "    decision_function_shape='ovr', degree=3, gamma='auto_deprecated',\n",
              "    kernel='linear', max_iter=-1, probability=True, random_state=None,\n",
              "    shrinking=True, tol=0.001, verbose=False)"
            ]
          },
          "metadata": {
            "tags": []
          },
          "execution_count": 11
        }
      ]
    },
    {
      "cell_type": "code",
      "metadata": {
        "id": "HVUPdjOgDo99",
        "colab_type": "code",
        "outputId": "6f242f79-9643-4450-88f7-d91aa3d55db7",
        "colab": {
          "base_uri": "https://localhost:8080/",
          "height": 238
        }
      },
      "source": [
        "y_pred = clf.predict(X_test)\n",
        "y_pred"
      ],
      "execution_count": 0,
      "outputs": [
        {
          "output_type": "execute_result",
          "data": {
            "text/plain": [
              "array([0, 1, 0, 0, 1, 1, 1, 0, 1, 0, 0, 0, 1, 1, 0, 0, 0, 0, 0, 0, 0, 0,\n",
              "       0, 1, 0, 0, 0, 0, 1, 0, 0, 0, 1, 1, 0, 0, 1, 1, 0, 0, 0, 0, 0, 1,\n",
              "       0, 0, 1, 1, 0, 1, 0, 1, 1, 1, 1, 0, 0, 1, 0, 1, 0, 1, 1, 0, 0, 0,\n",
              "       1, 0, 0, 0, 0, 1, 0, 1, 0, 0, 0, 0, 0, 1, 0, 0, 0, 0, 0, 0, 1, 1,\n",
              "       0, 1, 0, 1, 1, 0, 1, 0, 0, 1, 1, 0, 0, 1, 1, 1, 0, 1, 1, 1, 0, 0,\n",
              "       0, 1, 0, 1, 1, 0, 0, 1, 0, 1, 1, 0, 1, 0, 1, 0, 1, 1, 0, 0, 0, 0,\n",
              "       1, 0, 0, 0, 0, 1, 0, 1, 0, 1, 0, 0, 1, 1, 0, 1, 1, 1, 0, 1, 0, 0,\n",
              "       1, 1, 0, 0, 0, 1, 1, 0, 0, 0, 0, 0, 1, 1, 0, 0, 0, 0, 0, 0, 1, 0,\n",
              "       1, 0, 0, 0, 0, 1, 0, 1, 1, 1, 0, 0, 1, 0, 1, 0, 0, 0, 1, 0, 1, 1,\n",
              "       0, 0, 1, 0, 0, 1, 1, 1, 0, 1, 1, 0, 1, 0, 1, 0, 0, 1, 0, 1, 1, 0,\n",
              "       1, 1, 0, 0, 0, 0, 0, 1, 0, 0, 0, 0, 0, 1, 0, 1, 0, 1, 1, 1, 0, 1,\n",
              "       0, 1, 1, 0, 0, 0, 1, 0, 0, 0, 0, 0, 0, 0, 1, 0, 0, 0, 0, 0, 1, 0,\n",
              "       1, 0, 1, 0, 0, 0, 0, 1, 0, 1, 0])"
            ]
          },
          "metadata": {
            "tags": []
          },
          "execution_count": 12
        }
      ]
    },
    {
      "cell_type": "code",
      "metadata": {
        "id": "9JyWIOgNEPey",
        "colab_type": "code",
        "outputId": "3bb011a7-b6e2-4942-a8f7-fca289b24eab",
        "colab": {
          "base_uri": "https://localhost:8080/",
          "height": 629
        }
      },
      "source": [
        "clf.support_vectors_ #nearest to hyperplane"
      ],
      "execution_count": 0,
      "outputs": [
        {
          "output_type": "execute_result",
          "data": {
            "text/plain": [
              "array([[ 3.29200e-01, -4.45520e+00,  4.57180e+00, -9.88800e-01],\n",
              "       [ 5.19500e-01, -3.26330e+00,  3.08950e+00, -9.84900e-01],\n",
              "       [ 3.29200e-01, -4.45520e+00,  4.57180e+00, -9.88800e-01],\n",
              "       [ 3.79800e-01,  7.09800e-01,  7.57200e-01, -4.44400e-01],\n",
              "       [ 3.29240e-01, -4.45520e+00,  4.57180e+00, -9.88800e-01],\n",
              "       [ 5.70600e-01, -2.48000e-02,  1.24210e+00, -5.62100e-01],\n",
              "       [ 5.70600e-01, -2.48000e-02,  1.24210e+00, -5.62100e-01],\n",
              "       [ 5.19470e-01, -3.26330e+00,  3.08950e+00, -9.84920e-01],\n",
              "       [ 5.70600e-01, -2.48410e-02,  1.24210e+00, -5.62080e-01],\n",
              "       [-7.86900e-01,  9.56630e+00, -3.78670e+00, -7.50340e+00],\n",
              "       [ 5.19500e-01, -3.26330e+00,  3.08950e+00, -9.84900e-01],\n",
              "       [ 3.79800e-01,  7.09800e-01,  7.57200e-01, -4.44400e-01],\n",
              "       [ 3.79800e-01,  7.09800e-01,  7.57200e-01, -4.44400e-01],\n",
              "       [ 5.70600e-01, -2.48000e-02,  1.24210e+00, -5.62100e-01],\n",
              "       [ 3.29200e-01, -4.45520e+00,  4.57180e+00, -9.88800e-01],\n",
              "       [ 5.70600e-01, -2.48000e-02,  1.24210e+00, -5.62100e-01],\n",
              "       [ 5.19500e-01, -3.26330e+00,  3.08950e+00, -9.84900e-01],\n",
              "       [-7.86890e-01,  9.56630e+00, -3.78670e+00, -7.50340e+00],\n",
              "       [-3.37930e+00, -1.37731e+01,  1.79274e+01, -2.03230e+00],\n",
              "       [-2.90200e+00, -7.65630e+00,  1.18318e+01, -8.42680e-01],\n",
              "       [-3.12730e+00, -7.11210e+00,  1.13897e+01, -8.36340e-02],\n",
              "       [ 1.58100e+00,  8.69090e-01, -2.31380e+00,  8.24120e-01],\n",
              "       [ 2.03100e+00,  1.85200e+00, -3.01210e+00,  3.00300e-03],\n",
              "       [-3.18750e+00, -7.57560e+00,  1.18678e+01, -5.78890e-01],\n",
              "       [ 1.78750e+00,  4.78000e+00, -5.13620e+00, -3.23620e+00],\n",
              "       [ 1.73310e+00,  3.95440e+00, -4.74120e+00, -2.50170e+00],\n",
              "       [ 2.19430e+00,  4.55030e+00, -4.97600e+00, -2.72540e+00],\n",
              "       [ 2.01770e+00,  1.79820e+00, -2.95810e+00,  2.09900e-01],\n",
              "       [-3.59850e+00, -1.36593e+01,  1.76052e+01, -2.49270e+00],\n",
              "       [ 1.67990e+00,  4.20680e+00, -4.53980e+00, -2.39310e+00],\n",
              "       [ 2.39170e+00,  4.55650e+00, -4.98880e+00, -2.89870e+00],\n",
              "       [ 1.56310e+00,  8.95990e-01, -1.97020e+00,  6.54720e-01],\n",
              "       [ 1.74250e+00,  3.68330e+00, -4.01290e+00, -1.72070e+00],\n",
              "       [ 1.45010e+00,  3.60670e+00, -4.05570e+00, -1.59660e+00],\n",
              "       [ 1.48960e+00,  3.42880e+00, -4.03090e+00, -1.42590e+00],\n",
              "       [-1.72790e+00, -6.84100e+00,  8.94940e+00,  6.80580e-01]])"
            ]
          },
          "metadata": {
            "tags": []
          },
          "execution_count": 13
        }
      ]
    },
    {
      "cell_type": "code",
      "metadata": {
        "id": "haHvZbCREzoY",
        "colab_type": "code",
        "outputId": "d52d007b-3842-44ec-98ef-332ae600a24f",
        "colab": {
          "base_uri": "https://localhost:8080/",
          "height": 34
        }
      },
      "source": [
        "len(clf.support_vectors_)"
      ],
      "execution_count": 0,
      "outputs": [
        {
          "output_type": "execute_result",
          "data": {
            "text/plain": [
              "36"
            ]
          },
          "metadata": {
            "tags": []
          },
          "execution_count": 14
        }
      ]
    },
    {
      "cell_type": "code",
      "metadata": {
        "id": "r5h7U1gqFP2Y",
        "colab_type": "code",
        "outputId": "4a9a80f4-4466-4f2a-dcfe-babc41cb18b8",
        "colab": {
          "base_uri": "https://localhost:8080/",
          "height": 34
        }
      },
      "source": [
        "clf.score(X_test , y_test)"
      ],
      "execution_count": 0,
      "outputs": [
        {
          "output_type": "execute_result",
          "data": {
            "text/plain": [
              "0.9890909090909091"
            ]
          },
          "metadata": {
            "tags": []
          },
          "execution_count": 15
        }
      ]
    },
    {
      "cell_type": "code",
      "metadata": {
        "id": "iAyOtiYkFXvj",
        "colab_type": "code",
        "outputId": "e037a0be-ba9a-4b82-d826-27a724c38cdb",
        "colab": {
          "base_uri": "https://localhost:8080/",
          "height": 204
        }
      },
      "source": [
        "from sklearn.metrics import classification_report, confusion_matrix\n",
        "print(confusion_matrix(y_test,y_pred))\n",
        "print(classification_report(y_test,y_pred))"
      ],
      "execution_count": 0,
      "outputs": [
        {
          "output_type": "stream",
          "text": [
            "[[165   2]\n",
            " [  1 107]]\n",
            "              precision    recall  f1-score   support\n",
            "\n",
            "           0       0.99      0.99      0.99       167\n",
            "           1       0.98      0.99      0.99       108\n",
            "\n",
            "    accuracy                           0.99       275\n",
            "   macro avg       0.99      0.99      0.99       275\n",
            "weighted avg       0.99      0.99      0.99       275\n",
            "\n"
          ],
          "name": "stdout"
        }
      ]
    },
    {
      "cell_type": "code",
      "metadata": {
        "id": "mbE22Hl4GThk",
        "colab_type": "code",
        "colab": {}
      },
      "source": [
        "#Receiver operating characteristic\n",
        "#roc takes 1 as positve\n",
        "#roc s ploted on proba"
      ],
      "execution_count": 0,
      "outputs": []
    },
    {
      "cell_type": "code",
      "metadata": {
        "id": "OhzRH38WGJ9M",
        "colab_type": "code",
        "colab": {}
      },
      "source": [
        "from sklearn.metrics import roc_curve\n",
        "from sklearn.metrics import roc_auc_score"
      ],
      "execution_count": 0,
      "outputs": []
    },
    {
      "cell_type": "code",
      "metadata": {
        "id": "wMLfEnVmIldp",
        "colab_type": "code",
        "colab": {}
      },
      "source": [
        "def plot_roc_curve(fpr,tpr):\n",
        "    plt.plot(fpr, tpr , color='orange',label='ROC')\n",
        "    plt.plot([0,1],[0,1],color='darkblue',linestyle='--')\n",
        "    plt.xlabel('False Positive Rate')\n",
        "    plt.ylabel('True Positive Rate')\n",
        "    plt.title('Receiver operating characteristics (ROC) curve')\n",
        "    plt.legend()\n",
        "    plt.show()"
      ],
      "execution_count": 0,
      "outputs": []
    },
    {
      "cell_type": "code",
      "metadata": {
        "id": "8lQBcGgJJWd1",
        "colab_type": "code",
        "colab": {}
      },
      "source": [
        "probs = clf.predict_proba(X_test)"
      ],
      "execution_count": 0,
      "outputs": []
    },
    {
      "cell_type": "code",
      "metadata": {
        "id": "roIxRF9gJeEg",
        "colab_type": "code",
        "outputId": "f495bbbf-f151-4428-9684-8c5934e00b2e",
        "colab": {
          "base_uri": "https://localhost:8080/",
          "height": 1000
        }
      },
      "source": [
        "probs"
      ],
      "execution_count": 0,
      "outputs": [
        {
          "output_type": "execute_result",
          "data": {
            "text/plain": [
              "array([[9.99999859e-01, 1.41146450e-07],\n",
              "       [4.14786698e-06, 9.99995852e-01],\n",
              "       [9.99999900e-01, 1.00000010e-07],\n",
              "       [9.99999900e-01, 1.00000010e-07],\n",
              "       [3.36015999e-03, 9.96639840e-01],\n",
              "       [1.32471753e-09, 9.99999999e-01],\n",
              "       [1.19250560e-06, 9.99998807e-01],\n",
              "       [9.99999900e-01, 1.00000010e-07],\n",
              "       [7.23773963e-08, 9.99999928e-01],\n",
              "       [9.99999900e-01, 1.00000010e-07],\n",
              "       [9.99999654e-01, 3.46003126e-07],\n",
              "       [9.99999407e-01, 5.92811394e-07],\n",
              "       [8.20900302e-11, 1.00000000e+00],\n",
              "       [3.31431703e-09, 9.99999997e-01],\n",
              "       [9.99999897e-01, 1.03372127e-07],\n",
              "       [9.99999726e-01, 2.73580596e-07],\n",
              "       [9.99999854e-01, 1.46189849e-07],\n",
              "       [9.99107330e-01, 8.92669535e-04],\n",
              "       [9.99999900e-01, 1.00000010e-07],\n",
              "       [9.99999900e-01, 1.00000010e-07],\n",
              "       [9.99999519e-01, 4.81429359e-07],\n",
              "       [9.99999900e-01, 1.00000010e-07],\n",
              "       [9.99999900e-01, 1.00000010e-07],\n",
              "       [2.16960260e-02, 9.78303974e-01],\n",
              "       [9.99999900e-01, 1.00000010e-07],\n",
              "       [9.99999900e-01, 1.00000010e-07],\n",
              "       [9.99999900e-01, 1.00000010e-07],\n",
              "       [9.99999794e-01, 2.05938552e-07],\n",
              "       [1.27493826e-02, 9.87250617e-01],\n",
              "       [5.53404867e-01, 4.46595133e-01],\n",
              "       [9.99999500e-01, 4.99615517e-07],\n",
              "       [9.99999610e-01, 3.90242847e-07],\n",
              "       [1.41909072e-11, 1.00000000e+00],\n",
              "       [5.41029020e-07, 9.99999459e-01],\n",
              "       [9.99860431e-01, 1.39568694e-04],\n",
              "       [9.99998581e-01, 1.41925572e-06],\n",
              "       [4.07830312e-09, 9.99999996e-01],\n",
              "       [1.03435942e-05, 9.99989656e-01],\n",
              "       [9.97381802e-01, 2.61819804e-03],\n",
              "       [9.99999900e-01, 1.00000010e-07],\n",
              "       [9.99999900e-01, 1.00000010e-07],\n",
              "       [9.99585020e-01, 4.14980078e-04],\n",
              "       [9.99999588e-01, 4.11620747e-07],\n",
              "       [2.30329643e-10, 1.00000000e+00],\n",
              "       [9.99987184e-01, 1.28163452e-05],\n",
              "       [9.99999900e-01, 1.00000010e-07],\n",
              "       [1.30222742e-08, 9.99999987e-01],\n",
              "       [3.13986703e-10, 1.00000000e+00],\n",
              "       [9.99987465e-01, 1.25347993e-05],\n",
              "       [7.34990194e-02, 9.26500981e-01],\n",
              "       [9.99999900e-01, 1.00000010e-07],\n",
              "       [2.70112746e-07, 9.99999730e-01],\n",
              "       [2.92291805e-01, 7.07708195e-01],\n",
              "       [1.16722987e-02, 9.88327701e-01],\n",
              "       [2.78295619e-08, 9.99999972e-01],\n",
              "       [9.99889090e-01, 1.10910157e-04],\n",
              "       [9.99999900e-01, 1.00000010e-07],\n",
              "       [2.37624661e-02, 9.76237534e-01],\n",
              "       [9.99999900e-01, 1.00000010e-07],\n",
              "       [1.05955333e-02, 9.89404467e-01],\n",
              "       [9.99999900e-01, 1.00000010e-07],\n",
              "       [4.29577318e-09, 9.99999996e-01],\n",
              "       [6.61528277e-07, 9.99999338e-01],\n",
              "       [9.99999900e-01, 1.00000010e-07],\n",
              "       [9.99999672e-01, 3.28409248e-07],\n",
              "       [9.99999900e-01, 1.00000010e-07],\n",
              "       [1.12896959e-10, 1.00000000e+00],\n",
              "       [9.99999900e-01, 1.00000010e-07],\n",
              "       [9.99999900e-01, 1.00000010e-07],\n",
              "       [9.99922185e-01, 7.78147914e-05],\n",
              "       [9.99994559e-01, 5.44064526e-06],\n",
              "       [1.65155919e-07, 9.99999835e-01],\n",
              "       [9.99999900e-01, 1.00000010e-07],\n",
              "       [3.15149057e-03, 9.96848509e-01],\n",
              "       [9.99999900e-01, 1.00000010e-07],\n",
              "       [9.99999900e-01, 1.00000010e-07],\n",
              "       [9.99999602e-01, 3.97944835e-07],\n",
              "       [9.99999660e-01, 3.40413593e-07],\n",
              "       [9.99998864e-01, 1.13592803e-06],\n",
              "       [5.05770149e-08, 9.99999949e-01],\n",
              "       [9.99982949e-01, 1.70505112e-05],\n",
              "       [9.99999900e-01, 1.00000010e-07],\n",
              "       [9.99933495e-01, 6.65048565e-05],\n",
              "       [9.99999900e-01, 1.00000010e-07],\n",
              "       [9.99829379e-01, 1.70620640e-04],\n",
              "       [9.99999808e-01, 1.91554635e-07],\n",
              "       [3.77390189e-07, 9.99999623e-01],\n",
              "       [4.16571223e-01, 5.83428777e-01],\n",
              "       [6.66634768e-01, 3.33365232e-01],\n",
              "       [5.29370006e-02, 9.47062999e-01],\n",
              "       [9.99999900e-01, 1.00000010e-07],\n",
              "       [9.09902903e-03, 9.90900971e-01],\n",
              "       [1.33275537e-01, 8.66724463e-01],\n",
              "       [9.99998929e-01, 1.07131031e-06],\n",
              "       [2.83086649e-08, 9.99999972e-01],\n",
              "       [9.99999900e-01, 1.00000010e-07],\n",
              "       [9.99999900e-01, 1.00000010e-07],\n",
              "       [1.55623060e-07, 9.99999844e-01],\n",
              "       [1.45221959e-05, 9.99985478e-01],\n",
              "       [9.99999900e-01, 1.00000010e-07],\n",
              "       [9.99998213e-01, 1.78739154e-06],\n",
              "       [3.37557218e-12, 1.00000000e+00],\n",
              "       [6.61819322e-08, 9.99999934e-01],\n",
              "       [3.29566476e-09, 9.99999997e-01],\n",
              "       [9.86531091e-01, 1.34689087e-02],\n",
              "       [1.59953778e-07, 9.99999840e-01],\n",
              "       [7.39026740e-06, 9.99992610e-01],\n",
              "       [3.39156050e-03, 9.96608440e-01],\n",
              "       [9.99999900e-01, 1.00000010e-07],\n",
              "       [9.99999900e-01, 1.00000010e-07],\n",
              "       [9.99999824e-01, 1.75617893e-07],\n",
              "       [1.43182127e-07, 9.99999857e-01],\n",
              "       [5.83128522e-01, 4.16871478e-01],\n",
              "       [7.03438580e-03, 9.92965614e-01],\n",
              "       [1.17996970e-08, 9.99999988e-01],\n",
              "       [9.99998551e-01, 1.44915110e-06],\n",
              "       [9.99999739e-01, 2.61219206e-07],\n",
              "       [5.77802640e-03, 9.94221974e-01],\n",
              "       [9.99999900e-01, 1.00000010e-07],\n",
              "       [7.38117010e-09, 9.99999993e-01],\n",
              "       [1.40396789e-09, 9.99999999e-01],\n",
              "       [9.99993259e-01, 6.74052837e-06],\n",
              "       [3.20712481e-03, 9.96792875e-01],\n",
              "       [9.99999696e-01, 3.04015611e-07],\n",
              "       [8.66327195e-06, 9.99991337e-01],\n",
              "       [9.99985283e-01, 1.47171654e-05],\n",
              "       [1.71429233e-10, 1.00000000e+00],\n",
              "       [3.96772497e-07, 9.99999603e-01],\n",
              "       [9.99999900e-01, 1.00000010e-07],\n",
              "       [9.99999900e-01, 1.00000010e-07],\n",
              "       [9.99999900e-01, 1.00000010e-07],\n",
              "       [9.99999900e-01, 1.00000010e-07],\n",
              "       [2.66683208e-06, 9.99997333e-01],\n",
              "       [9.99999798e-01, 2.02099632e-07],\n",
              "       [9.99979155e-01, 2.08449288e-05],\n",
              "       [9.99999900e-01, 1.00000010e-07],\n",
              "       [9.99999557e-01, 4.43333301e-07],\n",
              "       [1.46501062e-01, 8.53498938e-01],\n",
              "       [9.99986326e-01, 1.36738545e-05],\n",
              "       [9.61901563e-10, 9.99999999e-01],\n",
              "       [9.99974230e-01, 2.57699332e-05],\n",
              "       [3.75403863e-09, 9.99999996e-01],\n",
              "       [9.99997455e-01, 2.54495410e-06],\n",
              "       [9.99999900e-01, 1.00000010e-07],\n",
              "       [1.16525415e-08, 9.99999988e-01],\n",
              "       [4.26022295e-02, 9.57397770e-01],\n",
              "       [9.99999485e-01, 5.15251356e-07],\n",
              "       [1.63056966e-02, 9.83694303e-01],\n",
              "       [1.51297449e-02, 9.84870255e-01],\n",
              "       [7.32847017e-06, 9.99992672e-01],\n",
              "       [9.99990431e-01, 9.56917215e-06],\n",
              "       [9.74197491e-06, 9.99990258e-01],\n",
              "       [9.99996261e-01, 3.73873349e-06],\n",
              "       [9.99999900e-01, 1.00000010e-07],\n",
              "       [5.19358570e-03, 9.94806414e-01],\n",
              "       [3.51596084e-06, 9.99996484e-01],\n",
              "       [9.99981890e-01, 1.81097210e-05],\n",
              "       [9.99998095e-01, 1.90503737e-06],\n",
              "       [9.99994440e-01, 5.56006063e-06],\n",
              "       [2.42761800e-01, 7.57238200e-01],\n",
              "       [1.16444727e-09, 9.99999999e-01],\n",
              "       [9.99993882e-01, 6.11797774e-06],\n",
              "       [9.99997513e-01, 2.48659535e-06],\n",
              "       [9.99988827e-01, 1.11725556e-05],\n",
              "       [9.99999815e-01, 1.84689886e-07],\n",
              "       [9.99999782e-01, 2.18013928e-07],\n",
              "       [6.55564221e-07, 9.99999344e-01],\n",
              "       [1.12695444e-05, 9.99988730e-01],\n",
              "       [9.99999900e-01, 1.00000010e-07],\n",
              "       [9.99999900e-01, 1.00000010e-07],\n",
              "       [9.99996269e-01, 3.73134249e-06],\n",
              "       [9.99999820e-01, 1.80490123e-07],\n",
              "       [9.99999900e-01, 1.00000010e-07],\n",
              "       [9.99999437e-01, 5.62736749e-07],\n",
              "       [3.66040561e-06, 9.99996340e-01],\n",
              "       [9.99999900e-01, 1.00000010e-07],\n",
              "       [9.18045459e-03, 9.90819545e-01],\n",
              "       [9.99999900e-01, 1.00000010e-07],\n",
              "       [9.99999538e-01, 4.61739454e-07],\n",
              "       [9.99999828e-01, 1.72478254e-07],\n",
              "       [9.99999900e-01, 1.00000010e-07],\n",
              "       [4.57240181e-03, 9.95427598e-01],\n",
              "       [9.99999900e-01, 1.00000010e-07],\n",
              "       [8.90574273e-02, 9.10942573e-01],\n",
              "       [1.44775758e-08, 9.99999986e-01],\n",
              "       [1.01956686e-01, 8.98043314e-01],\n",
              "       [9.99999900e-01, 1.00000010e-07],\n",
              "       [9.99999900e-01, 1.00000010e-07],\n",
              "       [2.76543553e-07, 9.99999723e-01],\n",
              "       [9.99999900e-01, 1.00000010e-07],\n",
              "       [6.26579769e-10, 9.99999999e-01],\n",
              "       [9.43346446e-01, 5.66535542e-02],\n",
              "       [9.99955827e-01, 4.41734325e-05],\n",
              "       [9.99999900e-01, 1.00000010e-07],\n",
              "       [9.47118337e-09, 9.99999991e-01],\n",
              "       [9.99997381e-01, 2.61946568e-06],\n",
              "       [5.19632388e-06, 9.99994804e-01],\n",
              "       [1.92219824e-07, 9.99999808e-01],\n",
              "       [9.99977650e-01, 2.23496576e-05],\n",
              "       [9.99999633e-01, 3.66638735e-07],\n",
              "       [7.20724134e-13, 1.00000000e+00],\n",
              "       [9.99999884e-01, 1.15548994e-07],\n",
              "       [9.99999900e-01, 1.00000010e-07],\n",
              "       [1.50357786e-10, 1.00000000e+00],\n",
              "       [6.05472804e-08, 9.99999939e-01],\n",
              "       [7.00604487e-02, 9.29939551e-01],\n",
              "       [9.99540936e-01, 4.59064395e-04],\n",
              "       [6.30483549e-10, 9.99999999e-01],\n",
              "       [2.64358226e-12, 1.00000000e+00],\n",
              "       [5.53404867e-01, 4.46595133e-01],\n",
              "       [3.01670874e-09, 9.99999997e-01],\n",
              "       [9.99999669e-01, 3.31437150e-07],\n",
              "       [1.07027178e-08, 9.99999989e-01],\n",
              "       [9.99999455e-01, 5.44881630e-07],\n",
              "       [9.99999767e-01, 2.32613215e-07],\n",
              "       [6.37644503e-09, 9.99999994e-01],\n",
              "       [9.99999640e-01, 3.59635453e-07],\n",
              "       [1.90981667e-02, 9.80901833e-01],\n",
              "       [6.03449901e-06, 9.99993966e-01],\n",
              "       [9.99999590e-01, 4.09972219e-07],\n",
              "       [4.83470318e-08, 9.99999952e-01],\n",
              "       [1.79803340e-07, 9.99999820e-01],\n",
              "       [9.99995593e-01, 4.40696569e-06],\n",
              "       [9.99999870e-01, 1.30002534e-07],\n",
              "       [9.99999525e-01, 4.74559337e-07],\n",
              "       [9.99590929e-01, 4.09071127e-04],\n",
              "       [9.99995551e-01, 4.44909215e-06],\n",
              "       [8.03226846e-07, 9.99999197e-01],\n",
              "       [9.43982966e-01, 5.60170340e-02],\n",
              "       [9.99139268e-01, 8.60731781e-04],\n",
              "       [9.98638485e-01, 1.36151489e-03],\n",
              "       [9.99865571e-01, 1.34429241e-04],\n",
              "       [9.99999650e-01, 3.50285022e-07],\n",
              "       [9.05906999e-03, 9.90940930e-01],\n",
              "       [9.99999745e-01, 2.55013608e-07],\n",
              "       [1.52498625e-09, 9.99999998e-01],\n",
              "       [9.99999131e-01, 8.69188380e-07],\n",
              "       [2.80929652e-03, 9.97190703e-01],\n",
              "       [3.33722224e-10, 1.00000000e+00],\n",
              "       [1.76780932e-07, 9.99999823e-01],\n",
              "       [9.99999893e-01, 1.06813623e-07],\n",
              "       [1.27245198e-09, 9.99999999e-01],\n",
              "       [9.99999900e-01, 1.00000010e-07],\n",
              "       [7.60078371e-08, 9.99999924e-01],\n",
              "       [1.64167154e-02, 9.83583285e-01],\n",
              "       [9.99999879e-01, 1.21329363e-07],\n",
              "       [9.99998883e-01, 1.11734589e-06],\n",
              "       [9.99999900e-01, 1.00000010e-07],\n",
              "       [1.62233386e-02, 9.83776661e-01],\n",
              "       [9.99984766e-01, 1.52339562e-05],\n",
              "       [9.88256135e-01, 1.17438652e-02],\n",
              "       [9.99999527e-01, 4.72695977e-07],\n",
              "       [9.99999883e-01, 1.17227177e-07],\n",
              "       [9.99994699e-01, 5.30108148e-06],\n",
              "       [9.99995629e-01, 4.37124936e-06],\n",
              "       [6.66625193e-01, 3.33374807e-01],\n",
              "       [1.75805700e-02, 9.82419430e-01],\n",
              "       [7.54913906e-01, 2.45086094e-01],\n",
              "       [9.99999900e-01, 1.00000010e-07],\n",
              "       [5.53404867e-01, 4.46595133e-01],\n",
              "       [9.99999551e-01, 4.48559520e-07],\n",
              "       [9.99999900e-01, 1.00000010e-07],\n",
              "       [3.74992925e-08, 9.99999963e-01],\n",
              "       [9.99999821e-01, 1.78627321e-07],\n",
              "       [3.28597230e-03, 9.96714028e-01],\n",
              "       [9.99999900e-01, 1.00000010e-07],\n",
              "       [1.87091520e-07, 9.99999813e-01],\n",
              "       [9.99994090e-01, 5.91031259e-06],\n",
              "       [9.99999900e-01, 1.00000010e-07],\n",
              "       [9.99989100e-01, 1.09001121e-05],\n",
              "       [9.99923888e-01, 7.61115925e-05],\n",
              "       [1.24014949e-10, 1.00000000e+00],\n",
              "       [9.99939768e-01, 6.02324563e-05],\n",
              "       [1.53513027e-06, 9.99998465e-01],\n",
              "       [9.99999900e-01, 1.00000010e-07]])"
            ]
          },
          "metadata": {
            "tags": []
          },
          "execution_count": 21
        }
      ]
    },
    {
      "cell_type": "code",
      "metadata": {
        "id": "9sxzwKETJfly",
        "colab_type": "code",
        "outputId": "12600965-cb48-4fb0-9b99-14e748ab7d97",
        "colab": {
          "base_uri": "https://localhost:8080/",
          "height": 1000
        }
      },
      "source": [
        "probs = probs[:,1]\n",
        "probs"
      ],
      "execution_count": 0,
      "outputs": [
        {
          "output_type": "execute_result",
          "data": {
            "text/plain": [
              "array([1.41146450e-07, 9.99995852e-01, 1.00000010e-07, 1.00000010e-07,\n",
              "       9.96639840e-01, 9.99999999e-01, 9.99998807e-01, 1.00000010e-07,\n",
              "       9.99999928e-01, 1.00000010e-07, 3.46003126e-07, 5.92811394e-07,\n",
              "       1.00000000e+00, 9.99999997e-01, 1.03372127e-07, 2.73580596e-07,\n",
              "       1.46189849e-07, 8.92669535e-04, 1.00000010e-07, 1.00000010e-07,\n",
              "       4.81429359e-07, 1.00000010e-07, 1.00000010e-07, 9.78303974e-01,\n",
              "       1.00000010e-07, 1.00000010e-07, 1.00000010e-07, 2.05938552e-07,\n",
              "       9.87250617e-01, 4.46595133e-01, 4.99615517e-07, 3.90242847e-07,\n",
              "       1.00000000e+00, 9.99999459e-01, 1.39568694e-04, 1.41925572e-06,\n",
              "       9.99999996e-01, 9.99989656e-01, 2.61819804e-03, 1.00000010e-07,\n",
              "       1.00000010e-07, 4.14980078e-04, 4.11620747e-07, 1.00000000e+00,\n",
              "       1.28163452e-05, 1.00000010e-07, 9.99999987e-01, 1.00000000e+00,\n",
              "       1.25347993e-05, 9.26500981e-01, 1.00000010e-07, 9.99999730e-01,\n",
              "       7.07708195e-01, 9.88327701e-01, 9.99999972e-01, 1.10910157e-04,\n",
              "       1.00000010e-07, 9.76237534e-01, 1.00000010e-07, 9.89404467e-01,\n",
              "       1.00000010e-07, 9.99999996e-01, 9.99999338e-01, 1.00000010e-07,\n",
              "       3.28409248e-07, 1.00000010e-07, 1.00000000e+00, 1.00000010e-07,\n",
              "       1.00000010e-07, 7.78147914e-05, 5.44064526e-06, 9.99999835e-01,\n",
              "       1.00000010e-07, 9.96848509e-01, 1.00000010e-07, 1.00000010e-07,\n",
              "       3.97944835e-07, 3.40413593e-07, 1.13592803e-06, 9.99999949e-01,\n",
              "       1.70505112e-05, 1.00000010e-07, 6.65048565e-05, 1.00000010e-07,\n",
              "       1.70620640e-04, 1.91554635e-07, 9.99999623e-01, 5.83428777e-01,\n",
              "       3.33365232e-01, 9.47062999e-01, 1.00000010e-07, 9.90900971e-01,\n",
              "       8.66724463e-01, 1.07131031e-06, 9.99999972e-01, 1.00000010e-07,\n",
              "       1.00000010e-07, 9.99999844e-01, 9.99985478e-01, 1.00000010e-07,\n",
              "       1.78739154e-06, 1.00000000e+00, 9.99999934e-01, 9.99999997e-01,\n",
              "       1.34689087e-02, 9.99999840e-01, 9.99992610e-01, 9.96608440e-01,\n",
              "       1.00000010e-07, 1.00000010e-07, 1.75617893e-07, 9.99999857e-01,\n",
              "       4.16871478e-01, 9.92965614e-01, 9.99999988e-01, 1.44915110e-06,\n",
              "       2.61219206e-07, 9.94221974e-01, 1.00000010e-07, 9.99999993e-01,\n",
              "       9.99999999e-01, 6.74052837e-06, 9.96792875e-01, 3.04015611e-07,\n",
              "       9.99991337e-01, 1.47171654e-05, 1.00000000e+00, 9.99999603e-01,\n",
              "       1.00000010e-07, 1.00000010e-07, 1.00000010e-07, 1.00000010e-07,\n",
              "       9.99997333e-01, 2.02099632e-07, 2.08449288e-05, 1.00000010e-07,\n",
              "       4.43333301e-07, 8.53498938e-01, 1.36738545e-05, 9.99999999e-01,\n",
              "       2.57699332e-05, 9.99999996e-01, 2.54495410e-06, 1.00000010e-07,\n",
              "       9.99999988e-01, 9.57397770e-01, 5.15251356e-07, 9.83694303e-01,\n",
              "       9.84870255e-01, 9.99992672e-01, 9.56917215e-06, 9.99990258e-01,\n",
              "       3.73873349e-06, 1.00000010e-07, 9.94806414e-01, 9.99996484e-01,\n",
              "       1.81097210e-05, 1.90503737e-06, 5.56006063e-06, 7.57238200e-01,\n",
              "       9.99999999e-01, 6.11797774e-06, 2.48659535e-06, 1.11725556e-05,\n",
              "       1.84689886e-07, 2.18013928e-07, 9.99999344e-01, 9.99988730e-01,\n",
              "       1.00000010e-07, 1.00000010e-07, 3.73134249e-06, 1.80490123e-07,\n",
              "       1.00000010e-07, 5.62736749e-07, 9.99996340e-01, 1.00000010e-07,\n",
              "       9.90819545e-01, 1.00000010e-07, 4.61739454e-07, 1.72478254e-07,\n",
              "       1.00000010e-07, 9.95427598e-01, 1.00000010e-07, 9.10942573e-01,\n",
              "       9.99999986e-01, 8.98043314e-01, 1.00000010e-07, 1.00000010e-07,\n",
              "       9.99999723e-01, 1.00000010e-07, 9.99999999e-01, 5.66535542e-02,\n",
              "       4.41734325e-05, 1.00000010e-07, 9.99999991e-01, 2.61946568e-06,\n",
              "       9.99994804e-01, 9.99999808e-01, 2.23496576e-05, 3.66638735e-07,\n",
              "       1.00000000e+00, 1.15548994e-07, 1.00000010e-07, 1.00000000e+00,\n",
              "       9.99999939e-01, 9.29939551e-01, 4.59064395e-04, 9.99999999e-01,\n",
              "       1.00000000e+00, 4.46595133e-01, 9.99999997e-01, 3.31437150e-07,\n",
              "       9.99999989e-01, 5.44881630e-07, 2.32613215e-07, 9.99999994e-01,\n",
              "       3.59635453e-07, 9.80901833e-01, 9.99993966e-01, 4.09972219e-07,\n",
              "       9.99999952e-01, 9.99999820e-01, 4.40696569e-06, 1.30002534e-07,\n",
              "       4.74559337e-07, 4.09071127e-04, 4.44909215e-06, 9.99999197e-01,\n",
              "       5.60170340e-02, 8.60731781e-04, 1.36151489e-03, 1.34429241e-04,\n",
              "       3.50285022e-07, 9.90940930e-01, 2.55013608e-07, 9.99999998e-01,\n",
              "       8.69188380e-07, 9.97190703e-01, 1.00000000e+00, 9.99999823e-01,\n",
              "       1.06813623e-07, 9.99999999e-01, 1.00000010e-07, 9.99999924e-01,\n",
              "       9.83583285e-01, 1.21329363e-07, 1.11734589e-06, 1.00000010e-07,\n",
              "       9.83776661e-01, 1.52339562e-05, 1.17438652e-02, 4.72695977e-07,\n",
              "       1.17227177e-07, 5.30108148e-06, 4.37124936e-06, 3.33374807e-01,\n",
              "       9.82419430e-01, 2.45086094e-01, 1.00000010e-07, 4.46595133e-01,\n",
              "       4.48559520e-07, 1.00000010e-07, 9.99999963e-01, 1.78627321e-07,\n",
              "       9.96714028e-01, 1.00000010e-07, 9.99999813e-01, 5.91031259e-06,\n",
              "       1.00000010e-07, 1.09001121e-05, 7.61115925e-05, 1.00000000e+00,\n",
              "       6.02324563e-05, 9.99998465e-01, 1.00000010e-07])"
            ]
          },
          "metadata": {
            "tags": []
          },
          "execution_count": 22
        }
      ]
    },
    {
      "cell_type": "code",
      "metadata": {
        "id": "yj8ePJZdJ13Y",
        "colab_type": "code",
        "outputId": "244d0c63-3c36-42d3-b969-057d9e287137",
        "colab": {
          "base_uri": "https://localhost:8080/",
          "height": 34
        }
      },
      "source": [
        "auc = roc_auc_score(y_test, probs)\n",
        "print('AUC: %.2f' % auc)"
      ],
      "execution_count": 0,
      "outputs": [
        {
          "output_type": "stream",
          "text": [
            "AUC: 1.00\n"
          ],
          "name": "stdout"
        }
      ]
    },
    {
      "cell_type": "code",
      "metadata": {
        "id": "UkOpTGozKLr9",
        "colab_type": "code",
        "colab": {}
      },
      "source": [
        "fpr , tpr , thresholds= roc_curve(y_test, probs)"
      ],
      "execution_count": 0,
      "outputs": []
    },
    {
      "cell_type": "code",
      "metadata": {
        "id": "TEspGn4CKW4H",
        "colab_type": "code",
        "outputId": "6c26f23e-d920-4415-8752-4cdb04f91c8f",
        "colab": {
          "base_uri": "https://localhost:8080/",
          "height": 295
        }
      },
      "source": [
        "plot_roc_curve(fpr, tpr)"
      ],
      "execution_count": 0,
      "outputs": [
        {
          "output_type": "display_data",
          "data": {
            "image/png": "[encoded data removed]",
            "text/plain": [
              "<Figure size 432x288 with 1 Axes>"
            ]
          },
          "metadata": {
            "tags": []
          }
        }
      ]
    },
    {
      "cell_type": "code",
      "metadata": {
        "id": "BmbJOJNBKbBw",
        "colab_type": "code",
        "colab": {}
      },
      "source": [
        ""
      ],
      "execution_count": 0,
      "outputs": []
    }
  ]
}