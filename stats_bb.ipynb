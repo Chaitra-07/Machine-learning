{
  "nbformat": 4,
  "nbformat_minor": 0,
  "metadata": {
    "colab": {
      "name": "stats_bb.ipynb",
      "provenance": [],
      "collapsed_sections": [],
      "include_colab_link": true
    },
    "kernelspec": {
      "name": "python3",
      "display_name": "Python 3"
    }
  },
  "cells": [
    {
      "cell_type": "markdown",
      "metadata": {
        "id": "view-in-github",
        "colab_type": "text"
      },
      "source": [
        "<a href=\"https://colab.research.google.com/github/Chaitra-07/chai/blob/master/stats_bb.ipynb\" target=\"_parent\"><img src=\"https://colab.research.google.com/assets/colab-badge.svg\" alt=\"Open In Colab\"/></a>"
      ]
    },
    {
      "cell_type": "code",
      "metadata": {
        "id": "zRUT5p5Jnykj",
        "colab_type": "code",
        "outputId": "2f7d241e-e58e-48f6-df99-0dadbf6e8118",
        "colab": {
          "base_uri": "https://localhost:8080/",
          "height": 34
        }
      },
      "source": [
        "import numpy as np\n",
        "from scipy import stats\n",
        "mylist = [20,2,7,1,2,34]\n",
        "print(\"mylist :\" , mylist)"
      ],
      "execution_count": 0,
      "outputs": [
        {
          "output_type": "stream",
          "text": [
            "mylist : [20, 2, 7, 1, 2, 34]\n"
          ],
          "name": "stdout"
        }
      ]
    },
    {
      "cell_type": "markdown",
      "metadata": {
        "id": "GXdyQ8evqoDf",
        "colab_type": "text"
      },
      "source": [
        "MEASURE OF CENTRAL TENDENCY"
      ]
    },
    {
      "cell_type": "code",
      "metadata": {
        "id": "kshFqn2roj5j",
        "colab_type": "code",
        "outputId": "ca6daa80-8fee-48dd-fefe-74429da95a1c",
        "colab": {
          "base_uri": "https://localhost:8080/",
          "height": 34
        }
      },
      "source": [
        "print(\"mean of mylist :\" , np.mean(mylist))"
      ],
      "execution_count": 0,
      "outputs": [
        {
          "output_type": "stream",
          "text": [
            "mean of mylist : 11.0\n"
          ],
          "name": "stdout"
        }
      ]
    },
    {
      "cell_type": "code",
      "metadata": {
        "id": "l4tmIb81o6-3",
        "colab_type": "code",
        "outputId": "494347fd-c830-458c-d3db-b96d5daee7ad",
        "colab": {
          "base_uri": "https://localhost:8080/",
          "height": 34
        }
      },
      "source": [
        "print(\"mode of mylist :\",stats.mode(mylist))"
      ],
      "execution_count": 0,
      "outputs": [
        {
          "output_type": "stream",
          "text": [
            "mode of mylist : ModeResult(mode=array([2]), count=array([2]))\n"
          ],
          "name": "stdout"
        }
      ]
    },
    {
      "cell_type": "code",
      "metadata": {
        "id": "A2yV2nsIpWBm",
        "colab_type": "code",
        "outputId": "e6d43527-6b72-4eaa-84b8-4bccd9ca7f81",
        "colab": {
          "base_uri": "https://localhost:8080/",
          "height": 34
        }
      },
      "source": [
        "print(\"median of mylist :\" , np.median(mylist))"
      ],
      "execution_count": 0,
      "outputs": [
        {
          "output_type": "stream",
          "text": [
            "median of mylist : 4.5\n"
          ],
          "name": "stdout"
        }
      ]
    },
    {
      "cell_type": "markdown",
      "metadata": {
        "id": "v5cp9DrMp1IG",
        "colab_type": "text"
      },
      "source": [
        "MEASURE OF DISPERSION"
      ]
    },
    {
      "cell_type": "code",
      "metadata": {
        "id": "7atwTSL3p559",
        "colab_type": "code",
        "outputId": "daba2af1-1c29-4e60-962b-7dcb7240bd28",
        "colab": {
          "base_uri": "https://localhost:8080/",
          "height": 34
        }
      },
      "source": [
        "#Range\n",
        "print(\"Range of mylist: \",np.max(mylist)- np.min(mylist))"
      ],
      "execution_count": 0,
      "outputs": [
        {
          "output_type": "stream",
          "text": [
            "Range of mylist:  33\n"
          ],
          "name": "stdout"
        }
      ]
    },
    {
      "cell_type": "code",
      "metadata": {
        "id": "TBk_nnPEpm13",
        "colab_type": "code",
        "outputId": "c740c4d0-a509-4e3b-a1d7-d2d74bd91992",
        "colab": {
          "base_uri": "https://localhost:8080/",
          "height": 34
        }
      },
      "source": [
        "#Variance\n",
        "print(\"Variance of mylist :\",np.var(mylist))"
      ],
      "execution_count": 0,
      "outputs": [
        {
          "output_type": "stream",
          "text": [
            "Variance of mylist : 148.0\n"
          ],
          "name": "stdout"
        }
      ]
    },
    {
      "cell_type": "code",
      "metadata": {
        "id": "8CkA612RqSRN",
        "colab_type": "code",
        "outputId": "2a54a2e8-664f-40f9-d5d5-c7d058660c67",
        "colab": {
          "base_uri": "https://localhost:8080/",
          "height": 34
        }
      },
      "source": [
        "#std deviation\n",
        "print(\"Standard deviaton of mylist :\", np.std(mylist))"
      ],
      "execution_count": 0,
      "outputs": [
        {
          "output_type": "stream",
          "text": [
            "Standard deviaton of mylist : 12.165525060596439\n"
          ],
          "name": "stdout"
        }
      ]
    },
    {
      "cell_type": "code",
      "metadata": {
        "id": "okdZgGtpqcrg",
        "colab_type": "code",
        "colab": {}
      },
      "source": [
        ""
      ],
      "execution_count": 0,
      "outputs": []
    }
  ]
}