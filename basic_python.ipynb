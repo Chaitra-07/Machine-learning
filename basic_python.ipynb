{
  "nbformat": 4,
  "nbformat_minor": 0,
  "metadata": {
    "colab": {
      "name": "basic python.ipynb",
      "provenance": [],
      "collapsed_sections": [],
      "include_colab_link": true
    },
    "kernelspec": {
      "name": "python3",
      "display_name": "Python 3"
    }
  },
  "cells": [
    {
      "cell_type": "markdown",
      "metadata": {
        "id": "view-in-github",
        "colab_type": "text"
      },
      "source": [
        "<a href=\"https://colab.research.google.com/github/Chaitra-07/chai/blob/master/basic_python.ipynb\" target=\"_parent\"><img src=\"https://colab.research.google.com/assets/colab-badge.svg\" alt=\"Open In Colab\"/></a>"
      ]
    },
    {
      "cell_type": "markdown",
      "metadata": {
        "id": "aJKUlFIv-mZ8",
        "colab_type": "text"
      },
      "source": [
        "Basic python operation\n",
        "This file is for practicing python programming "
      ]
    },
    {
      "cell_type": "code",
      "metadata": {
        "id": "_iYKcjkw-tGy",
        "colab_type": "code",
        "outputId": "dd18b634-3ee8-4dca-c58d-3306b6431d1f",
        "colab": {
          "base_uri": "https://localhost:8080/",
          "height": 34
        }
      },
      "source": [
        "print('Hello World!')"
      ],
      "execution_count": 0,
      "outputs": [
        {
          "output_type": "stream",
          "text": [
            "Hello World!\n"
          ],
          "name": "stdout"
        }
      ]
    },
    {
      "cell_type": "code",
      "metadata": {
        "id": "S_An3boK-_x8",
        "colab_type": "code",
        "outputId": "0a83ce31-6c0e-4c4d-8549-da1e236be4b8",
        "colab": {
          "base_uri": "https://localhost:8080/",
          "height": 221
        }
      },
      "source": [
        "help(print)"
      ],
      "execution_count": 0,
      "outputs": [
        {
          "output_type": "stream",
          "text": [
            "Help on built-in function print in module builtins:\n",
            "\n",
            "print(...)\n",
            "    print(value, ..., sep=' ', end='\\n', file=sys.stdout, flush=False)\n",
            "    \n",
            "    Prints the values to a stream, or to sys.stdout by default.\n",
            "    Optional keyword arguments:\n",
            "    file:  a file-like object (stream); defaults to the current sys.stdout.\n",
            "    sep:   string inserted between values, default a space.\n",
            "    end:   string appended after the last value, default a newline.\n",
            "    flush: whether to forcibly flush the stream.\n",
            "\n"
          ],
          "name": "stdout"
        }
      ]
    },
    {
      "cell_type": "code",
      "metadata": {
        "id": "SOfsBBi6_eEJ",
        "colab_type": "code",
        "outputId": "f8340cb9-33c3-4a64-f8d7-5f3fbd4e28d8",
        "colab": {
          "base_uri": "https://localhost:8080/",
          "height": 34
        }
      },
      "source": [
        "firstVar='Hello World!!'\n",
        "print(firstVar)"
      ],
      "execution_count": 0,
      "outputs": [
        {
          "output_type": "stream",
          "text": [
            "Hello World!!\n"
          ],
          "name": "stdout"
        }
      ]
    },
    {
      "cell_type": "code",
      "metadata": {
        "id": "E6mYRpCGA561",
        "colab_type": "code",
        "outputId": "86fcc7c5-3e74-4803-a327-4e815c237c3b",
        "colab": {
          "base_uri": "https://localhost:8080/",
          "height": 34
        }
      },
      "source": [
        "firstVar"
      ],
      "execution_count": 0,
      "outputs": [
        {
          "output_type": "execute_result",
          "data": {
            "text/plain": [
              "'Hello World!!'"
            ]
          },
          "metadata": {
            "tags": []
          },
          "execution_count": 5
        }
      ]
    },
    {
      "cell_type": "code",
      "metadata": {
        "id": "9Hwp76gmBNCk",
        "colab_type": "code",
        "outputId": "d6725e98-e23e-4289-9d56-5038dd111d67",
        "colab": {
          "base_uri": "https://localhost:8080/",
          "height": 34
        }
      },
      "source": [
        "firstVar='Hello'\n",
        "secVar='world!'\n",
        "print(firstVar,secVar)"
      ],
      "execution_count": 0,
      "outputs": [
        {
          "output_type": "stream",
          "text": [
            "Hello world!\n"
          ],
          "name": "stdout"
        }
      ]
    },
    {
      "cell_type": "code",
      "metadata": {
        "id": "gdMF9aElBhNc",
        "colab_type": "code",
        "outputId": "6d861938-ed94-42bf-933b-beecbd234c9b",
        "colab": {
          "base_uri": "https://localhost:8080/",
          "height": 34
        }
      },
      "source": [
        "firstVar='Hi'\n",
        "secVar='How are you?'\n",
        "print(firstVar,secVar,sep=',')"
      ],
      "execution_count": 0,
      "outputs": [
        {
          "output_type": "stream",
          "text": [
            "Hi,How are you?\n"
          ],
          "name": "stdout"
        }
      ]
    },
    {
      "cell_type": "code",
      "metadata": {
        "id": "z2Vu_lkpCArl",
        "colab_type": "code",
        "outputId": "bd98ed7d-c4ca-484f-aadd-bd3f87059d51",
        "colab": {
          "base_uri": "https://localhost:8080/",
          "height": 34
        }
      },
      "source": [
        "12+23"
      ],
      "execution_count": 0,
      "outputs": [
        {
          "output_type": "execute_result",
          "data": {
            "text/plain": [
              "35"
            ]
          },
          "metadata": {
            "tags": []
          },
          "execution_count": 8
        }
      ]
    },
    {
      "cell_type": "code",
      "metadata": {
        "id": "0Ulb22MaC5zz",
        "colab_type": "code",
        "outputId": "43ecd4e8-dfdc-41d2-e713-bd21614504ee",
        "colab": {
          "base_uri": "https://localhost:8080/",
          "height": 34
        }
      },
      "source": [
        "'23'+'12'"
      ],
      "execution_count": 0,
      "outputs": [
        {
          "output_type": "execute_result",
          "data": {
            "text/plain": [
              "'2312'"
            ]
          },
          "metadata": {
            "tags": []
          },
          "execution_count": 9
        }
      ]
    },
    {
      "cell_type": "markdown",
      "metadata": {
        "id": "OXHDz-r8FuOe",
        "colab_type": "text"
      },
      "source": [
        "### **DataTypes**\n",
        "\n",
        "\n",
        "1.   List: can be altered\n",
        "2.   Tuple:cant alter\n",
        "3.   Dictonary\n",
        "\n",
        "\n",
        "\n",
        "\n"
      ]
    },
    {
      "cell_type": "code",
      "metadata": {
        "id": "y3gTMD8vC8hK",
        "colab_type": "code",
        "outputId": "b44d4988-8eda-4120-c034-2381c3231de8",
        "colab": {
          "base_uri": "https://localhost:8080/",
          "height": 34
        }
      },
      "source": [
        "numVar='Chai'\n",
        "type(numVar)"
      ],
      "execution_count": 0,
      "outputs": [
        {
          "output_type": "execute_result",
          "data": {
            "text/plain": [
              "str"
            ]
          },
          "metadata": {
            "tags": []
          },
          "execution_count": 10
        }
      ]
    },
    {
      "cell_type": "code",
      "metadata": {
        "id": "r2sFyY10FhD4",
        "colab_type": "code",
        "outputId": "9615ddc8-5f2f-47fa-e277-1a5acbbd9172",
        "colab": {
          "base_uri": "https://localhost:8080/",
          "height": 51
        }
      },
      "source": [
        "var1=12\n",
        "var2=133\n",
        "ops =var1>var2\n",
        "print(ops)\n",
        "type(ops)"
      ],
      "execution_count": 0,
      "outputs": [
        {
          "output_type": "stream",
          "text": [
            "False\n"
          ],
          "name": "stdout"
        },
        {
          "output_type": "execute_result",
          "data": {
            "text/plain": [
              "bool"
            ]
          },
          "metadata": {
            "tags": []
          },
          "execution_count": 11
        }
      ]
    },
    {
      "cell_type": "markdown",
      "metadata": {
        "id": "1-uaymE9GL8G",
        "colab_type": "text"
      },
      "source": [
        "Tuples and List"
      ]
    },
    {
      "cell_type": "code",
      "metadata": {
        "id": "jTHnoa_gGdOQ",
        "colab_type": "code",
        "outputId": "6cbe7fe5-5b75-4ffb-8e95-64ef7e9fbedc",
        "colab": {
          "base_uri": "https://localhost:8080/",
          "height": 51
        }
      },
      "source": [
        "myTuple=('Red','Blue','Green')\n",
        "print(myTuple)\n",
        "type(myTuple)"
      ],
      "execution_count": 0,
      "outputs": [
        {
          "output_type": "stream",
          "text": [
            "('Red', 'Blue', 'Green')\n"
          ],
          "name": "stdout"
        },
        {
          "output_type": "execute_result",
          "data": {
            "text/plain": [
              "tuple"
            ]
          },
          "metadata": {
            "tags": []
          },
          "execution_count": 16
        }
      ]
    },
    {
      "cell_type": "code",
      "metadata": {
        "id": "k9eY04x1G3y4",
        "colab_type": "code",
        "outputId": "18cfae70-c988-408b-ebdf-a41ef7ce1af0",
        "colab": {
          "base_uri": "https://localhost:8080/",
          "height": 51
        }
      },
      "source": [
        "myList=[19,'str']\n",
        "print(myList)\n",
        "type(myList)"
      ],
      "execution_count": 0,
      "outputs": [
        {
          "output_type": "stream",
          "text": [
            "[19, 'str']\n"
          ],
          "name": "stdout"
        },
        {
          "output_type": "execute_result",
          "data": {
            "text/plain": [
              "list"
            ]
          },
          "metadata": {
            "tags": []
          },
          "execution_count": 17
        }
      ]
    },
    {
      "cell_type": "code",
      "metadata": {
        "id": "1iGcSXbsHB6C",
        "colab_type": "code",
        "outputId": "287ddbce-e8cf-4f41-ba3f-645d8a147e5f",
        "colab": {
          "base_uri": "https://localhost:8080/",
          "height": 34
        }
      },
      "source": [
        "print(myList[0])"
      ],
      "execution_count": 0,
      "outputs": [
        {
          "output_type": "stream",
          "text": [
            "19\n"
          ],
          "name": "stdout"
        }
      ]
    },
    {
      "cell_type": "code",
      "metadata": {
        "id": "jEGSQYRQHFYY",
        "colab_type": "code",
        "colab": {}
      },
      "source": [
        "myList[0]=20"
      ],
      "execution_count": 0,
      "outputs": []
    },
    {
      "cell_type": "code",
      "metadata": {
        "id": "Pibft_bwHTk4",
        "colab_type": "code",
        "outputId": "a487bc77-d90d-4608-8a4d-ae858bfe91f8",
        "colab": {
          "base_uri": "https://localhost:8080/",
          "height": 34
        }
      },
      "source": [
        "myList"
      ],
      "execution_count": 0,
      "outputs": [
        {
          "output_type": "execute_result",
          "data": {
            "text/plain": [
              "[20, 'str']"
            ]
          },
          "metadata": {
            "tags": []
          },
          "execution_count": 20
        }
      ]
    },
    {
      "cell_type": "code",
      "metadata": {
        "id": "-D8BSbzPHVi9",
        "colab_type": "code",
        "outputId": "563d7b5d-a9d7-4d67-bf06-0b9676f54a59",
        "colab": {
          "base_uri": "https://localhost:8080/",
          "height": 163
        }
      },
      "source": [
        "myTuple[0]='orange'\n"
      ],
      "execution_count": 0,
      "outputs": [
        {
          "output_type": "error",
          "ename": "TypeError",
          "evalue": "ignored",
          "traceback": [
            "\u001b[0;31m---------------------------------------------------------------------------\u001b[0m",
            "\u001b[0;31mTypeError\u001b[0m                                 Traceback (most recent call last)",
            "\u001b[0;32m<ipython-input-21-abdf7cda586f>\u001b[0m in \u001b[0;36m<module>\u001b[0;34m()\u001b[0m\n\u001b[0;32m----> 1\u001b[0;31m \u001b[0mmyTuple\u001b[0m\u001b[0;34m[\u001b[0m\u001b[0;36m0\u001b[0m\u001b[0;34m]\u001b[0m\u001b[0;34m=\u001b[0m\u001b[0;34m'orange'\u001b[0m\u001b[0;34m\u001b[0m\u001b[0;34m\u001b[0m\u001b[0m\n\u001b[0m",
            "\u001b[0;31mTypeError\u001b[0m: 'tuple' object does not support item assignment"
          ]
        }
      ]
    },
    {
      "cell_type": "code",
      "metadata": {
        "id": "yrx9wCs4HjNW",
        "colab_type": "code",
        "outputId": "af519dc5-d4f1-4922-c8c2-9afcc3e0bcb8",
        "colab": {
          "base_uri": "https://localhost:8080/",
          "height": 51
        }
      },
      "source": [
        "myDict={\"empName\":\"Chaitra\",\"age\":21}\n",
        "print(myDict)\n",
        "type(myDict)"
      ],
      "execution_count": 0,
      "outputs": [
        {
          "output_type": "stream",
          "text": [
            "{'empName': 'Chaitra', 'age': 21}\n"
          ],
          "name": "stdout"
        },
        {
          "output_type": "execute_result",
          "data": {
            "text/plain": [
              "dict"
            ]
          },
          "metadata": {
            "tags": []
          },
          "execution_count": 22
        }
      ]
    },
    {
      "cell_type": "code",
      "metadata": {
        "id": "f5Q9xrxUH9ai",
        "colab_type": "code",
        "outputId": "aca2efee-d476-46de-cf64-09042991a96b",
        "colab": {
          "base_uri": "https://localhost:8080/",
          "height": 34
        }
      },
      "source": [
        "print(myDict['empName'])"
      ],
      "execution_count": 0,
      "outputs": [
        {
          "output_type": "stream",
          "text": [
            "Chaitra\n"
          ],
          "name": "stdout"
        }
      ]
    },
    {
      "cell_type": "code",
      "metadata": {
        "id": "pNNMKX_ZICSw",
        "colab_type": "code",
        "outputId": "94d4beb2-fe27-4f60-f538-e7304b720a45",
        "colab": {
          "base_uri": "https://localhost:8080/",
          "height": 34
        }
      },
      "source": [
        "keyValue={\"empName\":[\"Chaitra\",\"Kavya\",\"Swathi\",\"Kiran\"],\"age\":[21,19,18,17]}\n",
        "type(keyValue)"
      ],
      "execution_count": 0,
      "outputs": [
        {
          "output_type": "execute_result",
          "data": {
            "text/plain": [
              "dict"
            ]
          },
          "metadata": {
            "tags": []
          },
          "execution_count": 24
        }
      ]
    },
    {
      "cell_type": "code",
      "metadata": {
        "id": "G6W07KpNJBwe",
        "colab_type": "code",
        "outputId": "c310d220-d99e-4f9d-889e-4514f0879e27",
        "colab": {
          "base_uri": "https://localhost:8080/",
          "height": 34
        }
      },
      "source": [
        "print(keyValue[\"empName\"][1])"
      ],
      "execution_count": 0,
      "outputs": [
        {
          "output_type": "stream",
          "text": [
            "Kavya\n"
          ],
          "name": "stdout"
        }
      ]
    },
    {
      "cell_type": "markdown",
      "metadata": {
        "id": "i6ifQjMUJtE2",
        "colab_type": "text"
      },
      "source": [
        "## **PLACEHOLDER**"
      ]
    },
    {
      "cell_type": "code",
      "metadata": {
        "id": "U-OH2uvuJxGS",
        "colab_type": "code",
        "outputId": "7653c2c7-b305-4fe3-acf1-80ed115e67b4",
        "colab": {
          "base_uri": "https://localhost:8080/",
          "height": 34
        }
      },
      "source": [
        "name=\"Chaitra\"\n",
        "age=21\n",
        "print(\"Name is %s and age is %d\" %(name,age))"
      ],
      "execution_count": 0,
      "outputs": [
        {
          "output_type": "stream",
          "text": [
            "Name is Chaitra and age is 21\n"
          ],
          "name": "stdout"
        }
      ]
    },
    {
      "cell_type": "code",
      "metadata": {
        "id": "Eo2v_0MdJ8ub",
        "colab_type": "code",
        "outputId": "abf8afd2-0588-4621-b027-0ceae44b31a0",
        "colab": {
          "base_uri": "https://localhost:8080/",
          "height": 34
        }
      },
      "source": [
        "print(\"Name is\",name, \"age is\",age)"
      ],
      "execution_count": 0,
      "outputs": [
        {
          "output_type": "stream",
          "text": [
            "Name is Chaitra age is 21\n"
          ],
          "name": "stdout"
        }
      ]
    },
    {
      "cell_type": "markdown",
      "metadata": {
        "id": "QCVymrMkKgBI",
        "colab_type": "text"
      },
      "source": [
        "## **DATATYPE CONVERTER**"
      ]
    },
    {
      "cell_type": "code",
      "metadata": {
        "id": "_aoy5_E4KknN",
        "colab_type": "code",
        "outputId": "52460e26-4872-45c0-db60-a5707011bd6d",
        "colab": {
          "base_uri": "https://localhost:8080/",
          "height": 34
        }
      },
      "source": [
        "var1='10'\n",
        "type(var1)"
      ],
      "execution_count": 0,
      "outputs": [
        {
          "output_type": "execute_result",
          "data": {
            "text/plain": [
              "str"
            ]
          },
          "metadata": {
            "tags": []
          },
          "execution_count": 30
        }
      ]
    },
    {
      "cell_type": "code",
      "metadata": {
        "id": "yCnduaj4Kn23",
        "colab_type": "code",
        "outputId": "5107f1c1-e89b-4e0a-8562-3680b915b140",
        "colab": {
          "base_uri": "https://localhost:8080/",
          "height": 34
        }
      },
      "source": [
        "var2=20\n",
        "type(var2)"
      ],
      "execution_count": 0,
      "outputs": [
        {
          "output_type": "execute_result",
          "data": {
            "text/plain": [
              "int"
            ]
          },
          "metadata": {
            "tags": []
          },
          "execution_count": 31
        }
      ]
    },
    {
      "cell_type": "code",
      "metadata": {
        "id": "_ZCyjs__KtUy",
        "colab_type": "code",
        "outputId": "73af7e74-da4c-447a-d196-416daef08689",
        "colab": {
          "base_uri": "https://localhost:8080/",
          "height": 34
        }
      },
      "source": [
        "#add\n",
        "int(var1)+var2"
      ],
      "execution_count": 0,
      "outputs": [
        {
          "output_type": "execute_result",
          "data": {
            "text/plain": [
              "30"
            ]
          },
          "metadata": {
            "tags": []
          },
          "execution_count": 32
        }
      ]
    },
    {
      "cell_type": "code",
      "metadata": {
        "id": "O8MldVtGKzJV",
        "colab_type": "code",
        "outputId": "19ef65f5-604a-4fcd-ff3c-887af35277ba",
        "colab": {
          "base_uri": "https://localhost:8080/",
          "height": 34
        }
      },
      "source": [
        "#float convert\n",
        "var3='10.6'\n",
        "newvar=float(var3)\n",
        "type(newvar)"
      ],
      "execution_count": 0,
      "outputs": [
        {
          "output_type": "execute_result",
          "data": {
            "text/plain": [
              "float"
            ]
          },
          "metadata": {
            "tags": []
          },
          "execution_count": 33
        }
      ]
    },
    {
      "cell_type": "code",
      "metadata": {
        "id": "G8eNh4qKLHZ_",
        "colab_type": "code",
        "outputId": "8380af68-da87-4841-d43e-c071a9853af1",
        "colab": {
          "base_uri": "https://localhost:8080/",
          "height": 51
        }
      },
      "source": [
        "#Tuple to list #same can be done to convert list to tuple\n",
        "myTuple=('Red','Blue','Green')\n",
        "print(myTuple)\n",
        "type(myTuple)"
      ],
      "execution_count": 0,
      "outputs": [
        {
          "output_type": "stream",
          "text": [
            "('Red', 'Blue', 'Green')\n"
          ],
          "name": "stdout"
        },
        {
          "output_type": "execute_result",
          "data": {
            "text/plain": [
              "tuple"
            ]
          },
          "metadata": {
            "tags": []
          },
          "execution_count": 34
        }
      ]
    },
    {
      "cell_type": "code",
      "metadata": {
        "id": "4uXwW7nwLXAm",
        "colab_type": "code",
        "outputId": "33b3baa0-3392-4364-ce7f-052a0e6be83a",
        "colab": {
          "base_uri": "https://localhost:8080/",
          "height": 34
        }
      },
      "source": [
        "newvar1=list(myTuple)\n",
        "type(newvar1)"
      ],
      "execution_count": 0,
      "outputs": [
        {
          "output_type": "execute_result",
          "data": {
            "text/plain": [
              "list"
            ]
          },
          "metadata": {
            "tags": []
          },
          "execution_count": 35
        }
      ]
    },
    {
      "cell_type": "markdown",
      "metadata": {
        "id": "9QahUqp-MQ6S",
        "colab_type": "text"
      },
      "source": [
        "# **Decision Making**"
      ]
    },
    {
      "cell_type": "code",
      "metadata": {
        "id": "mx_bGFrfNFcp",
        "colab_type": "code",
        "outputId": "ac808a31-a151-4bb5-ae5a-d393acf8c98a",
        "colab": {
          "base_uri": "https://localhost:8080/",
          "height": 34
        }
      },
      "source": [
        "balance = 2000\n",
        "if balance == 2000:\n",
        "      print(\"Spend it\")\n",
        "else:\n",
        "      print(\"Save it\")"
      ],
      "execution_count": 0,
      "outputs": [
        {
          "output_type": "stream",
          "text": [
            "Spend it\n"
          ],
          "name": "stdout"
        }
      ]
    },
    {
      "cell_type": "code",
      "metadata": {
        "id": "P4junegBNWWC",
        "colab_type": "code",
        "outputId": "ddc5c036-dcce-40d0-f65b-11e26687ee62",
        "colab": {
          "base_uri": "https://localhost:8080/",
          "height": 34
        }
      },
      "source": [
        "balance = 2500\n",
        "if balance > 2000:\n",
        "      print(\"Go to mangalore\")\n",
        "elif balance < 2000:\n",
        "      print(\"Go to mysore\")\n",
        "else:\n",
        "      print(\"stay at home\")"
      ],
      "execution_count": 0,
      "outputs": [
        {
          "output_type": "stream",
          "text": [
            "Go to mangalore\n"
          ],
          "name": "stdout"
        }
      ]
    },
    {
      "cell_type": "code",
      "metadata": {
        "id": "rJn9exRdN71g",
        "colab_type": "code",
        "outputId": "d722d342-e1f2-4164-c296-28a36d1f43f3",
        "colab": {
          "base_uri": "https://localhost:8080/",
          "height": 34
        }
      },
      "source": [
        "balance = 2500\n",
        "if balance > 2000:\n",
        "      if (balance == 2100):\n",
        "          print(\"1\")\n",
        "      elif balance < 2000:\n",
        "          print(\"Go to mysore\")\n",
        "      else:\n",
        "          print(\"2\")\n",
        "elif (balance > 4000):\n",
        "      print(\"stay at home\")\n",
        "else:\n",
        "      print(\"3\")"
      ],
      "execution_count": 0,
      "outputs": [
        {
          "output_type": "stream",
          "text": [
            "2\n"
          ],
          "name": "stdout"
        }
      ]
    },
    {
      "cell_type": "markdown",
      "metadata": {
        "id": "mZMK2KVBPVVY",
        "colab_type": "text"
      },
      "source": [
        "## **loops**"
      ]
    },
    {
      "cell_type": "code",
      "metadata": {
        "id": "Q5HWD96sPbUL",
        "colab_type": "code",
        "outputId": "08b43dba-bee2-43f2-f932-51da5fb826ef",
        "colab": {
          "base_uri": "https://localhost:8080/",
          "height": 187
        }
      },
      "source": [
        "for i in range(1,11):\n",
        "      print(i+5)"
      ],
      "execution_count": 0,
      "outputs": [
        {
          "output_type": "stream",
          "text": [
            "6\n",
            "7\n",
            "8\n",
            "9\n",
            "10\n",
            "11\n",
            "12\n",
            "13\n",
            "14\n",
            "15\n"
          ],
          "name": "stdout"
        }
      ]
    },
    {
      "cell_type": "code",
      "metadata": {
        "id": "dRX6C9XCQv4I",
        "colab_type": "code",
        "outputId": "cca82635-f5cc-4afe-9d77-68f9256b6315",
        "colab": {
          "base_uri": "https://localhost:8080/",
          "height": 68
        }
      },
      "source": [
        "for i in ['a','b','c']:\n",
        "        print(i)"
      ],
      "execution_count": 0,
      "outputs": [
        {
          "output_type": "stream",
          "text": [
            "a\n",
            "b\n",
            "c\n"
          ],
          "name": "stdout"
        }
      ]
    },
    {
      "cell_type": "code",
      "metadata": {
        "id": "Ub6zC6MGRD8m",
        "colab_type": "code",
        "outputId": "eab84034-1c30-493a-dedb-8848316e1043",
        "colab": {
          "base_uri": "https://localhost:8080/",
          "height": 34
        }
      },
      "source": [
        "lis=[]\n",
        "for i in range(1,6):\n",
        "      lis.append(i)##single line \n",
        "print(lis)"
      ],
      "execution_count": 0,
      "outputs": [
        {
          "output_type": "stream",
          "text": [
            "[1, 2, 3, 4, 5]\n"
          ],
          "name": "stdout"
        }
      ]
    },
    {
      "cell_type": "code",
      "metadata": {
        "id": "KQndt_zmRagC",
        "colab_type": "code",
        "outputId": "42c1b537-ef53-4b2c-c646-46bf6a9d8a99",
        "colab": {
          "base_uri": "https://localhost:8080/",
          "height": 85
        }
      },
      "source": [
        "list1 =['a','b','c','d']\n",
        "for k,v in enumerate(list1):\n",
        "      print(\"key:\",k,\"value:\",v)"
      ],
      "execution_count": 0,
      "outputs": [
        {
          "output_type": "stream",
          "text": [
            "key: 0 value: a\n",
            "key: 1 value: b\n",
            "key: 2 value: c\n",
            "key: 3 value: d\n"
          ],
          "name": "stdout"
        }
      ]
    },
    {
      "cell_type": "code",
      "metadata": {
        "id": "dvF2-2fNR4-s",
        "colab_type": "code",
        "outputId": "27d44630-a755-4393-f7fb-78061e806add",
        "colab": {
          "base_uri": "https://localhost:8080/",
          "height": 102
        }
      },
      "source": [
        "#while loop\n",
        "counter = 5\n",
        "while counter > 0:\n",
        "  print('counter=',counter)\n",
        "  counter = counter-1"
      ],
      "execution_count": 0,
      "outputs": [
        {
          "output_type": "stream",
          "text": [
            "counter= 5\n",
            "counter= 4\n",
            "counter= 3\n",
            "counter= 2\n",
            "counter= 1\n"
          ],
          "name": "stdout"
        }
      ]
    },
    {
      "cell_type": "markdown",
      "metadata": {
        "id": "ddsOY1nIS5ud",
        "colab_type": "text"
      },
      "source": [
        "# **Reading loops**"
      ]
    },
    {
      "cell_type": "code",
      "metadata": {
        "id": "q8qnPq0ZS8-V",
        "colab_type": "code",
        "outputId": "3684a2cf-17c0-4921-dc52-3bfed697a0ad",
        "colab": {
          "base_uri": "https://localhost:8080/",
          "height": 51
        }
      },
      "source": [
        "myinput = input(\"Enter your input:\")\n",
        "print(\"Received input is :\", myinput)"
      ],
      "execution_count": 0,
      "outputs": [
        {
          "output_type": "stream",
          "text": [
            "Enter your input:chaitra\n",
            "Received input is : chaitra\n"
          ],
          "name": "stdout"
        }
      ]
    },
    {
      "cell_type": "code",
      "metadata": {
        "id": "J5e9eRRhTM-P",
        "colab_type": "code",
        "outputId": "ead6c947-fec1-4012-98f5-3df4aa5d6074",
        "colab": {
          "base_uri": "https://localhost:8080/",
          "height": 51
        }
      },
      "source": [
        "balance = input('Enter your balance:')\n",
        "balance = int(balance)\n",
        "balance = 2500\n",
        "if balance > 2000:\n",
        "      if (balance == 2100):\n",
        "          print(\"1\")\n",
        "      elif balance < 2000:\n",
        "          print(\"Go to mysore\")\n",
        "      else:\n",
        "          print(\"2\")\n",
        "elif (balance > 4000):\n",
        "      print(\"stay at home\")\n",
        "else:\n",
        "      print(\"3\")"
      ],
      "execution_count": 0,
      "outputs": [
        {
          "output_type": "stream",
          "text": [
            "Enter your balance:5000\n",
            "2\n"
          ],
          "name": "stdout"
        }
      ]
    },
    {
      "cell_type": "markdown",
      "metadata": {
        "id": "aIpKs5heUTAI",
        "colab_type": "text"
      },
      "source": [
        "# **Exception handling**"
      ]
    },
    {
      "cell_type": "code",
      "metadata": {
        "id": "FRVJLWDyUd75",
        "colab_type": "code",
        "outputId": "30b9882f-f23a-4442-8f61-e6f00914dec5",
        "colab": {
          "base_uri": "https://localhost:8080/",
          "height": 163
        }
      },
      "source": [
        "50/0"
      ],
      "execution_count": 0,
      "outputs": [
        {
          "output_type": "error",
          "ename": "ZeroDivisionError",
          "evalue": "ignored",
          "traceback": [
            "\u001b[0;31m---------------------------------------------------------------------------\u001b[0m",
            "\u001b[0;31mZeroDivisionError\u001b[0m                         Traceback (most recent call last)",
            "\u001b[0;32m<ipython-input-53-ff5d2f231fa4>\u001b[0m in \u001b[0;36m<module>\u001b[0;34m()\u001b[0m\n\u001b[0;32m----> 1\u001b[0;31m \u001b[0;36m50\u001b[0m\u001b[0;34m/\u001b[0m\u001b[0;36m0\u001b[0m\u001b[0;34m\u001b[0m\u001b[0;34m\u001b[0m\u001b[0m\n\u001b[0m",
            "\u001b[0;31mZeroDivisionError\u001b[0m: division by zero"
          ]
        }
      ]
    },
    {
      "cell_type": "code",
      "metadata": {
        "id": "wwe5fB4KUfGW",
        "colab_type": "code",
        "outputId": "e82629e7-492b-4bfb-b604-3f22d1ad772c",
        "colab": {
          "base_uri": "https://localhost:8080/",
          "height": 34
        }
      },
      "source": [
        "try:\n",
        "    ans = 50/0\n",
        "    print(ans)\n",
        "except:\n",
        "    print('you cant')"
      ],
      "execution_count": 0,
      "outputs": [
        {
          "output_type": "stream",
          "text": [
            "you cant\n"
          ],
          "name": "stdout"
        }
      ]
    },
    {
      "cell_type": "code",
      "metadata": {
        "id": "xFJEfQ4WUrai",
        "colab_type": "code",
        "outputId": "f27db470-a2f7-4123-e380-8041a9cfda1f",
        "colab": {
          "base_uri": "https://localhost:8080/",
          "height": 34
        }
      },
      "source": [
        "try:\n",
        "    ans = 50/1\n",
        "    print(ans)\n",
        "except:\n",
        "    print('you cant')"
      ],
      "execution_count": 0,
      "outputs": [
        {
          "output_type": "stream",
          "text": [
            "50.0\n"
          ],
          "name": "stdout"
        }
      ]
    },
    {
      "cell_type": "markdown",
      "metadata": {
        "id": "EwbRhE2PVjqj",
        "colab_type": "text"
      },
      "source": [
        "# **FUNCTION**"
      ]
    },
    {
      "cell_type": "code",
      "metadata": {
        "id": "vhBtH9yuU2ng",
        "colab_type": "code",
        "colab": {}
      },
      "source": [
        "def profile_info(username):\n",
        "    print(\"username of the profile:\",username)"
      ],
      "execution_count": 0,
      "outputs": []
    },
    {
      "cell_type": "code",
      "metadata": {
        "id": "PsZoPjr2V5aq",
        "colab_type": "code",
        "outputId": "dc1c0831-c239-4abb-e2af-505293be5ab4",
        "colab": {
          "base_uri": "https://localhost:8080/",
          "height": 34
        }
      },
      "source": [
        "profile_info(\"chai\")"
      ],
      "execution_count": 0,
      "outputs": [
        {
          "output_type": "stream",
          "text": [
            "username of the profile: chai\n"
          ],
          "name": "stdout"
        }
      ]
    },
    {
      "cell_type": "code",
      "metadata": {
        "id": "hGuM9Z_JWGMv",
        "colab_type": "code",
        "colab": {}
      },
      "source": [
        "def profile_info(username,followers):\n",
        "    print(\"username of the profile:\",username)\n",
        "    print(\"followers:\",followers)"
      ],
      "execution_count": 0,
      "outputs": []
    },
    {
      "cell_type": "code",
      "metadata": {
        "id": "-hxmeh6eWSwt",
        "colab_type": "code",
        "outputId": "ded4b9a6-5f5b-446f-dcbc-c38e901470e1",
        "colab": {
          "base_uri": "https://localhost:8080/",
          "height": 51
        }
      },
      "source": [
        "profile_info(\"chai\",\"1000\")"
      ],
      "execution_count": 0,
      "outputs": [
        {
          "output_type": "stream",
          "text": [
            "username of the profile: chai\n",
            "followers: 1000\n"
          ],
          "name": "stdout"
        }
      ]
    },
    {
      "cell_type": "code",
      "metadata": {
        "id": "O1wZ4vU7WZt3",
        "colab_type": "code",
        "colab": {}
      },
      "source": [
        "def profile_info(username,followers=0):\n",
        "    print(\"username of the profile:\",username)\n",
        "    print(\"followers:\",followers)"
      ],
      "execution_count": 0,
      "outputs": []
    },
    {
      "cell_type": "code",
      "metadata": {
        "id": "WWRBCR1AWwe0",
        "colab_type": "code",
        "outputId": "1d8903ad-e481-4199-8464-2919302487b4",
        "colab": {
          "base_uri": "https://localhost:8080/",
          "height": 51
        }
      },
      "source": [
        "profile_info(\"chai\")"
      ],
      "execution_count": 0,
      "outputs": [
        {
          "output_type": "stream",
          "text": [
            "username of the profile: chai\n",
            "followers: 0\n"
          ],
          "name": "stdout"
        }
      ]
    },
    {
      "cell_type": "code",
      "metadata": {
        "id": "ku-ZFFLlXLFX",
        "colab_type": "code",
        "colab": {}
      },
      "source": [
        "def profile_default(username,followers=0):\n",
        "    print(\"username:\",username)\n",
        "    if(followers > 0):\n",
        "       print(\"followers:\",followers)"
      ],
      "execution_count": 0,
      "outputs": []
    },
    {
      "cell_type": "markdown",
      "metadata": {
        "id": "W2tqbkq7aTHr",
        "colab_type": "text"
      },
      "source": [
        "# **Class and object**"
      ]
    },
    {
      "cell_type": "code",
      "metadata": {
        "id": "2hso002XacgM",
        "colab_type": "code",
        "colab": {}
      },
      "source": [
        "class Shark:\n",
        "     def swim(self):\n",
        "       print(\"Shark is swimmimg\")\n",
        "    \n",
        "     def be_awesome(self):\n",
        "        print(\"Shark is being awesome\")\n",
        "   "
      ],
      "execution_count": 0,
      "outputs": []
    },
    {
      "cell_type": "code",
      "metadata": {
        "id": "OaMhb1zpd71O",
        "colab_type": "code",
        "colab": {}
      },
      "source": [
        "dobby = Shark()"
      ],
      "execution_count": 0,
      "outputs": []
    },
    {
      "cell_type": "code",
      "metadata": {
        "id": "D-9ptZ10f-tl",
        "colab_type": "code",
        "outputId": "bfd146b8-c9b7-4be0-b53d-5fbd40e7145e",
        "colab": {
          "base_uri": "https://localhost:8080/",
          "height": 34
        }
      },
      "source": [
        "dobby.swim()"
      ],
      "execution_count": 0,
      "outputs": [
        {
          "output_type": "stream",
          "text": [
            "Shark is swimmimg\n"
          ],
          "name": "stdout"
        }
      ]
    },
    {
      "cell_type": "code",
      "metadata": {
        "id": "ng3FkKyOfzfv",
        "colab_type": "code",
        "outputId": "b199a7cf-c768-4ff6-9220-3d7d7752580e",
        "colab": {
          "base_uri": "https://localhost:8080/",
          "height": 323
        }
      },
      "source": [
        "help(Shark())"
      ],
      "execution_count": 0,
      "outputs": [
        {
          "output_type": "stream",
          "text": [
            "Help on Shark in module __main__ object:\n",
            "\n",
            "class Shark(builtins.object)\n",
            " |  Methods defined here:\n",
            " |  \n",
            " |  be_awesome(self)\n",
            " |  \n",
            " |  swim(self)\n",
            " |  \n",
            " |  ----------------------------------------------------------------------\n",
            " |  Data descriptors defined here:\n",
            " |  \n",
            " |  __dict__\n",
            " |      dictionary for instance variables (if defined)\n",
            " |  \n",
            " |  __weakref__\n",
            " |      list of weak references to the object (if defined)\n",
            "\n"
          ],
          "name": "stdout"
        }
      ]
    },
    {
      "cell_type": "markdown",
      "metadata": {
        "id": "bF5xNkP5gFT1",
        "colab_type": "text"
      },
      "source": [
        "# **Constructor and Destructor**"
      ]
    },
    {
      "cell_type": "code",
      "metadata": {
        "id": "vTN4-YUIgNkg",
        "colab_type": "code",
        "colab": {}
      },
      "source": [
        "class Vehicle:\n",
        "    def __init__(self):\n",
        "        print('Vehicle created. Constructor got called.')\n",
        "    def __del__(self):\n",
        "        print('Destructor called , vehicle deleted')"
      ],
      "execution_count": 0,
      "outputs": []
    },
    {
      "cell_type": "code",
      "metadata": {
        "id": "oOlZtILshOlA",
        "colab_type": "code",
        "outputId": "f7c3ddb9-59a6-49eb-9fc7-e7e9076358ef",
        "colab": {
          "base_uri": "https://localhost:8080/",
          "height": 34
        }
      },
      "source": [
        "truck = Vehicle()"
      ],
      "execution_count": 0,
      "outputs": [
        {
          "output_type": "stream",
          "text": [
            "Vehicle created. Constructor got called.\n"
          ],
          "name": "stdout"
        }
      ]
    },
    {
      "cell_type": "code",
      "metadata": {
        "id": "oTEgQb_1hSAO",
        "colab_type": "code",
        "outputId": "872a35bd-57df-4756-8c6b-ccce725a32b4",
        "colab": {
          "base_uri": "https://localhost:8080/",
          "height": 34
        }
      },
      "source": [
        "del truck"
      ],
      "execution_count": 0,
      "outputs": [
        {
          "output_type": "stream",
          "text": [
            "Destructor called , vehicle deleted\n"
          ],
          "name": "stdout"
        }
      ]
    },
    {
      "cell_type": "code",
      "metadata": {
        "id": "nrW0eaOKhVnc",
        "colab_type": "code",
        "colab": {}
      },
      "source": [
        ""
      ],
      "execution_count": 0,
      "outputs": []
    }
  ]
}